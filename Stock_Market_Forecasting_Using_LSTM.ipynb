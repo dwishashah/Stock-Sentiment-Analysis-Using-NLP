{
  "nbformat": 4,
  "nbformat_minor": 0,
  "metadata": {
    "colab": {
      "provenance": [],
      "authorship_tag": "ABX9TyNWgzECBJM7OJle/1+Q7sCt",
      "include_colab_link": true
    },
    "kernelspec": {
      "name": "python3",
      "display_name": "Python 3"
    },
    "language_info": {
      "name": "python"
    }
  },
  "cells": [
    {
      "cell_type": "markdown",
      "metadata": {
        "id": "view-in-github",
        "colab_type": "text"
      },
      "source": [
        "<a href=\"https://colab.research.google.com/github/dwishashah/Stock-Sentiment-Analysis-Using-NLP/blob/main/Stock_Market_Forecasting_Using_LSTM.ipynb\" target=\"_parent\"><img src=\"https://colab.research.google.com/assets/colab-badge.svg\" alt=\"Open In Colab\"/></a>"
      ]
    },
    {
      "cell_type": "markdown",
      "source": [
        "## Stock Market Prediction And Forecasting Using Stacked LSTM"
      ],
      "metadata": {
        "id": "p3v90x49vZB-"
      }
    },
    {
      "cell_type": "code",
      "execution_count": 1,
      "metadata": {
        "id": "MntbY-civQhg"
      },
      "outputs": [],
      "source": [
        "import pandas_datareader as pdr\n",
        "key=\"f9bed1c9075f8e7c0b4c49b4dd5e276532509a1b\""
      ]
    },
    {
      "cell_type": "code",
      "source": [
        "df = pdr.get_data_tiingo('AAPL', api_key=key)"
      ],
      "metadata": {
        "colab": {
          "base_uri": "https://localhost:8080/"
        },
        "id": "SmKm9mpfxqUa",
        "outputId": "8044d201-d75e-4ca1-f74c-d447878ff813"
      },
      "execution_count": 2,
      "outputs": [
        {
          "output_type": "stream",
          "name": "stderr",
          "text": [
            "<ipython-input-2-08157bf6935e>:1: FutureWarning: In a future version of pandas all arguments of concat except for the argument 'objs' will be keyword-only.\n",
            "  df = pdr.get_data_tiingo('AAPL', api_key=key)\n"
          ]
        }
      ]
    },
    {
      "cell_type": "code",
      "source": [
        "df.to_csv('AAPL.csv')"
      ],
      "metadata": {
        "id": "-Sr5pYxUxxuC"
      },
      "execution_count": 3,
      "outputs": []
    },
    {
      "cell_type": "code",
      "source": [
        "import pandas as pd"
      ],
      "metadata": {
        "id": "xKSc9aYax2qo"
      },
      "execution_count": 4,
      "outputs": []
    },
    {
      "cell_type": "code",
      "source": [
        "df=pd.read_csv('AAPL.csv')"
      ],
      "metadata": {
        "id": "_9it60Xox5P-"
      },
      "execution_count": 5,
      "outputs": []
    },
    {
      "cell_type": "code",
      "source": [
        "df.head()"
      ],
      "metadata": {
        "colab": {
          "base_uri": "https://localhost:8080/",
          "height": 313
        },
        "id": "Qcb1C3Kix8Km",
        "outputId": "ac2a4fa7-2e4d-4597-c43a-d4690a3906e2"
      },
      "execution_count": 6,
      "outputs": [
        {
          "output_type": "execute_result",
          "data": {
            "text/plain": [
              "  symbol                       date   close    high     low    open    volume  \\\n",
              "0   AAPL  2018-09-17 00:00:00+00:00  217.88  222.95  217.27  222.15  37195133   \n",
              "1   AAPL  2018-09-18 00:00:00+00:00  218.24  221.85  217.12  217.79  31571712   \n",
              "2   AAPL  2018-09-19 00:00:00+00:00  218.37  219.62  215.30  218.50  27123833   \n",
              "3   AAPL  2018-09-20 00:00:00+00:00  220.03  222.28  219.15  220.24  26608794   \n",
              "4   AAPL  2018-09-21 00:00:00+00:00  217.66  221.36  217.29  220.78  96246748   \n",
              "\n",
              "    adjClose    adjHigh     adjLow    adjOpen  adjVolume  divCash  splitFactor  \n",
              "0  52.163924  53.377763  52.017881  53.186230  148780532      0.0          1.0  \n",
              "1  52.250114  53.114405  51.981968  52.142377  126286848      0.0          1.0  \n",
              "2  52.281238  52.580508  51.546231  52.312362  108495332      0.0          1.0  \n",
              "3  52.678668  53.217354  52.467982  52.728946  106435176      0.0          1.0  \n",
              "4  52.111253  52.997091  52.022669  52.858230  384986992      0.0          1.0  "
            ],
            "text/html": [
              "\n",
              "  <div id=\"df-15ad0928-e840-4761-824e-8da19cd8314d\" class=\"colab-df-container\">\n",
              "    <div>\n",
              "<style scoped>\n",
              "    .dataframe tbody tr th:only-of-type {\n",
              "        vertical-align: middle;\n",
              "    }\n",
              "\n",
              "    .dataframe tbody tr th {\n",
              "        vertical-align: top;\n",
              "    }\n",
              "\n",
              "    .dataframe thead th {\n",
              "        text-align: right;\n",
              "    }\n",
              "</style>\n",
              "<table border=\"1\" class=\"dataframe\">\n",
              "  <thead>\n",
              "    <tr style=\"text-align: right;\">\n",
              "      <th></th>\n",
              "      <th>symbol</th>\n",
              "      <th>date</th>\n",
              "      <th>close</th>\n",
              "      <th>high</th>\n",
              "      <th>low</th>\n",
              "      <th>open</th>\n",
              "      <th>volume</th>\n",
              "      <th>adjClose</th>\n",
              "      <th>adjHigh</th>\n",
              "      <th>adjLow</th>\n",
              "      <th>adjOpen</th>\n",
              "      <th>adjVolume</th>\n",
              "      <th>divCash</th>\n",
              "      <th>splitFactor</th>\n",
              "    </tr>\n",
              "  </thead>\n",
              "  <tbody>\n",
              "    <tr>\n",
              "      <th>0</th>\n",
              "      <td>AAPL</td>\n",
              "      <td>2018-09-17 00:00:00+00:00</td>\n",
              "      <td>217.88</td>\n",
              "      <td>222.95</td>\n",
              "      <td>217.27</td>\n",
              "      <td>222.15</td>\n",
              "      <td>37195133</td>\n",
              "      <td>52.163924</td>\n",
              "      <td>53.377763</td>\n",
              "      <td>52.017881</td>\n",
              "      <td>53.186230</td>\n",
              "      <td>148780532</td>\n",
              "      <td>0.0</td>\n",
              "      <td>1.0</td>\n",
              "    </tr>\n",
              "    <tr>\n",
              "      <th>1</th>\n",
              "      <td>AAPL</td>\n",
              "      <td>2018-09-18 00:00:00+00:00</td>\n",
              "      <td>218.24</td>\n",
              "      <td>221.85</td>\n",
              "      <td>217.12</td>\n",
              "      <td>217.79</td>\n",
              "      <td>31571712</td>\n",
              "      <td>52.250114</td>\n",
              "      <td>53.114405</td>\n",
              "      <td>51.981968</td>\n",
              "      <td>52.142377</td>\n",
              "      <td>126286848</td>\n",
              "      <td>0.0</td>\n",
              "      <td>1.0</td>\n",
              "    </tr>\n",
              "    <tr>\n",
              "      <th>2</th>\n",
              "      <td>AAPL</td>\n",
              "      <td>2018-09-19 00:00:00+00:00</td>\n",
              "      <td>218.37</td>\n",
              "      <td>219.62</td>\n",
              "      <td>215.30</td>\n",
              "      <td>218.50</td>\n",
              "      <td>27123833</td>\n",
              "      <td>52.281238</td>\n",
              "      <td>52.580508</td>\n",
              "      <td>51.546231</td>\n",
              "      <td>52.312362</td>\n",
              "      <td>108495332</td>\n",
              "      <td>0.0</td>\n",
              "      <td>1.0</td>\n",
              "    </tr>\n",
              "    <tr>\n",
              "      <th>3</th>\n",
              "      <td>AAPL</td>\n",
              "      <td>2018-09-20 00:00:00+00:00</td>\n",
              "      <td>220.03</td>\n",
              "      <td>222.28</td>\n",
              "      <td>219.15</td>\n",
              "      <td>220.24</td>\n",
              "      <td>26608794</td>\n",
              "      <td>52.678668</td>\n",
              "      <td>53.217354</td>\n",
              "      <td>52.467982</td>\n",
              "      <td>52.728946</td>\n",
              "      <td>106435176</td>\n",
              "      <td>0.0</td>\n",
              "      <td>1.0</td>\n",
              "    </tr>\n",
              "    <tr>\n",
              "      <th>4</th>\n",
              "      <td>AAPL</td>\n",
              "      <td>2018-09-21 00:00:00+00:00</td>\n",
              "      <td>217.66</td>\n",
              "      <td>221.36</td>\n",
              "      <td>217.29</td>\n",
              "      <td>220.78</td>\n",
              "      <td>96246748</td>\n",
              "      <td>52.111253</td>\n",
              "      <td>52.997091</td>\n",
              "      <td>52.022669</td>\n",
              "      <td>52.858230</td>\n",
              "      <td>384986992</td>\n",
              "      <td>0.0</td>\n",
              "      <td>1.0</td>\n",
              "    </tr>\n",
              "  </tbody>\n",
              "</table>\n",
              "</div>\n",
              "    <div class=\"colab-df-buttons\">\n",
              "\n",
              "  <div class=\"colab-df-container\">\n",
              "    <button class=\"colab-df-convert\" onclick=\"convertToInteractive('df-15ad0928-e840-4761-824e-8da19cd8314d')\"\n",
              "            title=\"Convert this dataframe to an interactive table.\"\n",
              "            style=\"display:none;\">\n",
              "\n",
              "  <svg xmlns=\"http://www.w3.org/2000/svg\" height=\"24px\" viewBox=\"0 -960 960 960\">\n",
              "    <path d=\"M120-120v-720h720v720H120Zm60-500h600v-160H180v160Zm220 220h160v-160H400v160Zm0 220h160v-160H400v160ZM180-400h160v-160H180v160Zm440 0h160v-160H620v160ZM180-180h160v-160H180v160Zm440 0h160v-160H620v160Z\"/>\n",
              "  </svg>\n",
              "    </button>\n",
              "\n",
              "  <style>\n",
              "    .colab-df-container {\n",
              "      display:flex;\n",
              "      gap: 12px;\n",
              "    }\n",
              "\n",
              "    .colab-df-convert {\n",
              "      background-color: #E8F0FE;\n",
              "      border: none;\n",
              "      border-radius: 50%;\n",
              "      cursor: pointer;\n",
              "      display: none;\n",
              "      fill: #1967D2;\n",
              "      height: 32px;\n",
              "      padding: 0 0 0 0;\n",
              "      width: 32px;\n",
              "    }\n",
              "\n",
              "    .colab-df-convert:hover {\n",
              "      background-color: #E2EBFA;\n",
              "      box-shadow: 0px 1px 2px rgba(60, 64, 67, 0.3), 0px 1px 3px 1px rgba(60, 64, 67, 0.15);\n",
              "      fill: #174EA6;\n",
              "    }\n",
              "\n",
              "    .colab-df-buttons div {\n",
              "      margin-bottom: 4px;\n",
              "    }\n",
              "\n",
              "    [theme=dark] .colab-df-convert {\n",
              "      background-color: #3B4455;\n",
              "      fill: #D2E3FC;\n",
              "    }\n",
              "\n",
              "    [theme=dark] .colab-df-convert:hover {\n",
              "      background-color: #434B5C;\n",
              "      box-shadow: 0px 1px 3px 1px rgba(0, 0, 0, 0.15);\n",
              "      filter: drop-shadow(0px 1px 2px rgba(0, 0, 0, 0.3));\n",
              "      fill: #FFFFFF;\n",
              "    }\n",
              "  </style>\n",
              "\n",
              "    <script>\n",
              "      const buttonEl =\n",
              "        document.querySelector('#df-15ad0928-e840-4761-824e-8da19cd8314d button.colab-df-convert');\n",
              "      buttonEl.style.display =\n",
              "        google.colab.kernel.accessAllowed ? 'block' : 'none';\n",
              "\n",
              "      async function convertToInteractive(key) {\n",
              "        const element = document.querySelector('#df-15ad0928-e840-4761-824e-8da19cd8314d');\n",
              "        const dataTable =\n",
              "          await google.colab.kernel.invokeFunction('convertToInteractive',\n",
              "                                                    [key], {});\n",
              "        if (!dataTable) return;\n",
              "\n",
              "        const docLinkHtml = 'Like what you see? Visit the ' +\n",
              "          '<a target=\"_blank\" href=https://colab.research.google.com/notebooks/data_table.ipynb>data table notebook</a>'\n",
              "          + ' to learn more about interactive tables.';\n",
              "        element.innerHTML = '';\n",
              "        dataTable['output_type'] = 'display_data';\n",
              "        await google.colab.output.renderOutput(dataTable, element);\n",
              "        const docLink = document.createElement('div');\n",
              "        docLink.innerHTML = docLinkHtml;\n",
              "        element.appendChild(docLink);\n",
              "      }\n",
              "    </script>\n",
              "  </div>\n",
              "\n",
              "\n",
              "<div id=\"df-81a5adc5-eea0-40b2-b368-de71f6c58a1f\">\n",
              "  <button class=\"colab-df-quickchart\" onclick=\"quickchart('df-81a5adc5-eea0-40b2-b368-de71f6c58a1f')\"\n",
              "            title=\"Suggest charts.\"\n",
              "            style=\"display:none;\">\n",
              "\n",
              "<svg xmlns=\"http://www.w3.org/2000/svg\" height=\"24px\"viewBox=\"0 0 24 24\"\n",
              "     width=\"24px\">\n",
              "    <g>\n",
              "        <path d=\"M19 3H5c-1.1 0-2 .9-2 2v14c0 1.1.9 2 2 2h14c1.1 0 2-.9 2-2V5c0-1.1-.9-2-2-2zM9 17H7v-7h2v7zm4 0h-2V7h2v10zm4 0h-2v-4h2v4z\"/>\n",
              "    </g>\n",
              "</svg>\n",
              "  </button>\n",
              "\n",
              "<style>\n",
              "  .colab-df-quickchart {\n",
              "      --bg-color: #E8F0FE;\n",
              "      --fill-color: #1967D2;\n",
              "      --hover-bg-color: #E2EBFA;\n",
              "      --hover-fill-color: #174EA6;\n",
              "      --disabled-fill-color: #AAA;\n",
              "      --disabled-bg-color: #DDD;\n",
              "  }\n",
              "\n",
              "  [theme=dark] .colab-df-quickchart {\n",
              "      --bg-color: #3B4455;\n",
              "      --fill-color: #D2E3FC;\n",
              "      --hover-bg-color: #434B5C;\n",
              "      --hover-fill-color: #FFFFFF;\n",
              "      --disabled-bg-color: #3B4455;\n",
              "      --disabled-fill-color: #666;\n",
              "  }\n",
              "\n",
              "  .colab-df-quickchart {\n",
              "    background-color: var(--bg-color);\n",
              "    border: none;\n",
              "    border-radius: 50%;\n",
              "    cursor: pointer;\n",
              "    display: none;\n",
              "    fill: var(--fill-color);\n",
              "    height: 32px;\n",
              "    padding: 0;\n",
              "    width: 32px;\n",
              "  }\n",
              "\n",
              "  .colab-df-quickchart:hover {\n",
              "    background-color: var(--hover-bg-color);\n",
              "    box-shadow: 0 1px 2px rgba(60, 64, 67, 0.3), 0 1px 3px 1px rgba(60, 64, 67, 0.15);\n",
              "    fill: var(--button-hover-fill-color);\n",
              "  }\n",
              "\n",
              "  .colab-df-quickchart-complete:disabled,\n",
              "  .colab-df-quickchart-complete:disabled:hover {\n",
              "    background-color: var(--disabled-bg-color);\n",
              "    fill: var(--disabled-fill-color);\n",
              "    box-shadow: none;\n",
              "  }\n",
              "\n",
              "  .colab-df-spinner {\n",
              "    border: 2px solid var(--fill-color);\n",
              "    border-color: transparent;\n",
              "    border-bottom-color: var(--fill-color);\n",
              "    animation:\n",
              "      spin 1s steps(1) infinite;\n",
              "  }\n",
              "\n",
              "  @keyframes spin {\n",
              "    0% {\n",
              "      border-color: transparent;\n",
              "      border-bottom-color: var(--fill-color);\n",
              "      border-left-color: var(--fill-color);\n",
              "    }\n",
              "    20% {\n",
              "      border-color: transparent;\n",
              "      border-left-color: var(--fill-color);\n",
              "      border-top-color: var(--fill-color);\n",
              "    }\n",
              "    30% {\n",
              "      border-color: transparent;\n",
              "      border-left-color: var(--fill-color);\n",
              "      border-top-color: var(--fill-color);\n",
              "      border-right-color: var(--fill-color);\n",
              "    }\n",
              "    40% {\n",
              "      border-color: transparent;\n",
              "      border-right-color: var(--fill-color);\n",
              "      border-top-color: var(--fill-color);\n",
              "    }\n",
              "    60% {\n",
              "      border-color: transparent;\n",
              "      border-right-color: var(--fill-color);\n",
              "    }\n",
              "    80% {\n",
              "      border-color: transparent;\n",
              "      border-right-color: var(--fill-color);\n",
              "      border-bottom-color: var(--fill-color);\n",
              "    }\n",
              "    90% {\n",
              "      border-color: transparent;\n",
              "      border-bottom-color: var(--fill-color);\n",
              "    }\n",
              "  }\n",
              "</style>\n",
              "\n",
              "  <script>\n",
              "    async function quickchart(key) {\n",
              "      const quickchartButtonEl =\n",
              "        document.querySelector('#' + key + ' button');\n",
              "      quickchartButtonEl.disabled = true;  // To prevent multiple clicks.\n",
              "      quickchartButtonEl.classList.add('colab-df-spinner');\n",
              "      try {\n",
              "        const charts = await google.colab.kernel.invokeFunction(\n",
              "            'suggestCharts', [key], {});\n",
              "      } catch (error) {\n",
              "        console.error('Error during call to suggestCharts:', error);\n",
              "      }\n",
              "      quickchartButtonEl.classList.remove('colab-df-spinner');\n",
              "      quickchartButtonEl.classList.add('colab-df-quickchart-complete');\n",
              "    }\n",
              "    (() => {\n",
              "      let quickchartButtonEl =\n",
              "        document.querySelector('#df-81a5adc5-eea0-40b2-b368-de71f6c58a1f button');\n",
              "      quickchartButtonEl.style.display =\n",
              "        google.colab.kernel.accessAllowed ? 'block' : 'none';\n",
              "    })();\n",
              "  </script>\n",
              "</div>\n",
              "    </div>\n",
              "  </div>\n"
            ]
          },
          "metadata": {},
          "execution_count": 6
        }
      ]
    },
    {
      "cell_type": "code",
      "source": [
        "df.tail()"
      ],
      "metadata": {
        "colab": {
          "base_uri": "https://localhost:8080/",
          "height": 313
        },
        "id": "jDyDRbDFx9fg",
        "outputId": "a4803bd6-d857-4be3-eae9-b1c59b882b42"
      },
      "execution_count": 7,
      "outputs": [
        {
          "output_type": "execute_result",
          "data": {
            "text/plain": [
              "     symbol                       date   close     high     low    open  \\\n",
              "1252   AAPL  2023-09-08 00:00:00+00:00  178.18  180.239  177.79  178.35   \n",
              "1253   AAPL  2023-09-11 00:00:00+00:00  179.36  180.300  177.34  180.07   \n",
              "1254   AAPL  2023-09-12 00:00:00+00:00  176.30  180.130  174.82  179.49   \n",
              "1255   AAPL  2023-09-13 00:00:00+00:00  174.21  177.300  173.98  176.51   \n",
              "1256   AAPL  2023-09-14 00:00:00+00:00  175.74  176.100  173.58  174.00   \n",
              "\n",
              "        volume  adjClose  adjHigh  adjLow  adjOpen  adjVolume  divCash  \\\n",
              "1252  65602066    178.18  180.239  177.79   178.35   65602066      0.0   \n",
              "1253  58953052    179.36  180.300  177.34   180.07   58953052      0.0   \n",
              "1254  90370192    176.30  180.130  174.82   179.49   90370192      0.0   \n",
              "1255  84267928    174.21  177.300  173.98   176.51   84267928      0.0   \n",
              "1256  60895757    175.74  176.100  173.58   174.00   60895757      0.0   \n",
              "\n",
              "      splitFactor  \n",
              "1252          1.0  \n",
              "1253          1.0  \n",
              "1254          1.0  \n",
              "1255          1.0  \n",
              "1256          1.0  "
            ],
            "text/html": [
              "\n",
              "  <div id=\"df-c9c07d5e-9b53-43ba-87f6-85c90e4086cd\" class=\"colab-df-container\">\n",
              "    <div>\n",
              "<style scoped>\n",
              "    .dataframe tbody tr th:only-of-type {\n",
              "        vertical-align: middle;\n",
              "    }\n",
              "\n",
              "    .dataframe tbody tr th {\n",
              "        vertical-align: top;\n",
              "    }\n",
              "\n",
              "    .dataframe thead th {\n",
              "        text-align: right;\n",
              "    }\n",
              "</style>\n",
              "<table border=\"1\" class=\"dataframe\">\n",
              "  <thead>\n",
              "    <tr style=\"text-align: right;\">\n",
              "      <th></th>\n",
              "      <th>symbol</th>\n",
              "      <th>date</th>\n",
              "      <th>close</th>\n",
              "      <th>high</th>\n",
              "      <th>low</th>\n",
              "      <th>open</th>\n",
              "      <th>volume</th>\n",
              "      <th>adjClose</th>\n",
              "      <th>adjHigh</th>\n",
              "      <th>adjLow</th>\n",
              "      <th>adjOpen</th>\n",
              "      <th>adjVolume</th>\n",
              "      <th>divCash</th>\n",
              "      <th>splitFactor</th>\n",
              "    </tr>\n",
              "  </thead>\n",
              "  <tbody>\n",
              "    <tr>\n",
              "      <th>1252</th>\n",
              "      <td>AAPL</td>\n",
              "      <td>2023-09-08 00:00:00+00:00</td>\n",
              "      <td>178.18</td>\n",
              "      <td>180.239</td>\n",
              "      <td>177.79</td>\n",
              "      <td>178.35</td>\n",
              "      <td>65602066</td>\n",
              "      <td>178.18</td>\n",
              "      <td>180.239</td>\n",
              "      <td>177.79</td>\n",
              "      <td>178.35</td>\n",
              "      <td>65602066</td>\n",
              "      <td>0.0</td>\n",
              "      <td>1.0</td>\n",
              "    </tr>\n",
              "    <tr>\n",
              "      <th>1253</th>\n",
              "      <td>AAPL</td>\n",
              "      <td>2023-09-11 00:00:00+00:00</td>\n",
              "      <td>179.36</td>\n",
              "      <td>180.300</td>\n",
              "      <td>177.34</td>\n",
              "      <td>180.07</td>\n",
              "      <td>58953052</td>\n",
              "      <td>179.36</td>\n",
              "      <td>180.300</td>\n",
              "      <td>177.34</td>\n",
              "      <td>180.07</td>\n",
              "      <td>58953052</td>\n",
              "      <td>0.0</td>\n",
              "      <td>1.0</td>\n",
              "    </tr>\n",
              "    <tr>\n",
              "      <th>1254</th>\n",
              "      <td>AAPL</td>\n",
              "      <td>2023-09-12 00:00:00+00:00</td>\n",
              "      <td>176.30</td>\n",
              "      <td>180.130</td>\n",
              "      <td>174.82</td>\n",
              "      <td>179.49</td>\n",
              "      <td>90370192</td>\n",
              "      <td>176.30</td>\n",
              "      <td>180.130</td>\n",
              "      <td>174.82</td>\n",
              "      <td>179.49</td>\n",
              "      <td>90370192</td>\n",
              "      <td>0.0</td>\n",
              "      <td>1.0</td>\n",
              "    </tr>\n",
              "    <tr>\n",
              "      <th>1255</th>\n",
              "      <td>AAPL</td>\n",
              "      <td>2023-09-13 00:00:00+00:00</td>\n",
              "      <td>174.21</td>\n",
              "      <td>177.300</td>\n",
              "      <td>173.98</td>\n",
              "      <td>176.51</td>\n",
              "      <td>84267928</td>\n",
              "      <td>174.21</td>\n",
              "      <td>177.300</td>\n",
              "      <td>173.98</td>\n",
              "      <td>176.51</td>\n",
              "      <td>84267928</td>\n",
              "      <td>0.0</td>\n",
              "      <td>1.0</td>\n",
              "    </tr>\n",
              "    <tr>\n",
              "      <th>1256</th>\n",
              "      <td>AAPL</td>\n",
              "      <td>2023-09-14 00:00:00+00:00</td>\n",
              "      <td>175.74</td>\n",
              "      <td>176.100</td>\n",
              "      <td>173.58</td>\n",
              "      <td>174.00</td>\n",
              "      <td>60895757</td>\n",
              "      <td>175.74</td>\n",
              "      <td>176.100</td>\n",
              "      <td>173.58</td>\n",
              "      <td>174.00</td>\n",
              "      <td>60895757</td>\n",
              "      <td>0.0</td>\n",
              "      <td>1.0</td>\n",
              "    </tr>\n",
              "  </tbody>\n",
              "</table>\n",
              "</div>\n",
              "    <div class=\"colab-df-buttons\">\n",
              "\n",
              "  <div class=\"colab-df-container\">\n",
              "    <button class=\"colab-df-convert\" onclick=\"convertToInteractive('df-c9c07d5e-9b53-43ba-87f6-85c90e4086cd')\"\n",
              "            title=\"Convert this dataframe to an interactive table.\"\n",
              "            style=\"display:none;\">\n",
              "\n",
              "  <svg xmlns=\"http://www.w3.org/2000/svg\" height=\"24px\" viewBox=\"0 -960 960 960\">\n",
              "    <path d=\"M120-120v-720h720v720H120Zm60-500h600v-160H180v160Zm220 220h160v-160H400v160Zm0 220h160v-160H400v160ZM180-400h160v-160H180v160Zm440 0h160v-160H620v160ZM180-180h160v-160H180v160Zm440 0h160v-160H620v160Z\"/>\n",
              "  </svg>\n",
              "    </button>\n",
              "\n",
              "  <style>\n",
              "    .colab-df-container {\n",
              "      display:flex;\n",
              "      gap: 12px;\n",
              "    }\n",
              "\n",
              "    .colab-df-convert {\n",
              "      background-color: #E8F0FE;\n",
              "      border: none;\n",
              "      border-radius: 50%;\n",
              "      cursor: pointer;\n",
              "      display: none;\n",
              "      fill: #1967D2;\n",
              "      height: 32px;\n",
              "      padding: 0 0 0 0;\n",
              "      width: 32px;\n",
              "    }\n",
              "\n",
              "    .colab-df-convert:hover {\n",
              "      background-color: #E2EBFA;\n",
              "      box-shadow: 0px 1px 2px rgba(60, 64, 67, 0.3), 0px 1px 3px 1px rgba(60, 64, 67, 0.15);\n",
              "      fill: #174EA6;\n",
              "    }\n",
              "\n",
              "    .colab-df-buttons div {\n",
              "      margin-bottom: 4px;\n",
              "    }\n",
              "\n",
              "    [theme=dark] .colab-df-convert {\n",
              "      background-color: #3B4455;\n",
              "      fill: #D2E3FC;\n",
              "    }\n",
              "\n",
              "    [theme=dark] .colab-df-convert:hover {\n",
              "      background-color: #434B5C;\n",
              "      box-shadow: 0px 1px 3px 1px rgba(0, 0, 0, 0.15);\n",
              "      filter: drop-shadow(0px 1px 2px rgba(0, 0, 0, 0.3));\n",
              "      fill: #FFFFFF;\n",
              "    }\n",
              "  </style>\n",
              "\n",
              "    <script>\n",
              "      const buttonEl =\n",
              "        document.querySelector('#df-c9c07d5e-9b53-43ba-87f6-85c90e4086cd button.colab-df-convert');\n",
              "      buttonEl.style.display =\n",
              "        google.colab.kernel.accessAllowed ? 'block' : 'none';\n",
              "\n",
              "      async function convertToInteractive(key) {\n",
              "        const element = document.querySelector('#df-c9c07d5e-9b53-43ba-87f6-85c90e4086cd');\n",
              "        const dataTable =\n",
              "          await google.colab.kernel.invokeFunction('convertToInteractive',\n",
              "                                                    [key], {});\n",
              "        if (!dataTable) return;\n",
              "\n",
              "        const docLinkHtml = 'Like what you see? Visit the ' +\n",
              "          '<a target=\"_blank\" href=https://colab.research.google.com/notebooks/data_table.ipynb>data table notebook</a>'\n",
              "          + ' to learn more about interactive tables.';\n",
              "        element.innerHTML = '';\n",
              "        dataTable['output_type'] = 'display_data';\n",
              "        await google.colab.output.renderOutput(dataTable, element);\n",
              "        const docLink = document.createElement('div');\n",
              "        docLink.innerHTML = docLinkHtml;\n",
              "        element.appendChild(docLink);\n",
              "      }\n",
              "    </script>\n",
              "  </div>\n",
              "\n",
              "\n",
              "<div id=\"df-45852db1-936e-4fb6-80f2-14a9088f661e\">\n",
              "  <button class=\"colab-df-quickchart\" onclick=\"quickchart('df-45852db1-936e-4fb6-80f2-14a9088f661e')\"\n",
              "            title=\"Suggest charts.\"\n",
              "            style=\"display:none;\">\n",
              "\n",
              "<svg xmlns=\"http://www.w3.org/2000/svg\" height=\"24px\"viewBox=\"0 0 24 24\"\n",
              "     width=\"24px\">\n",
              "    <g>\n",
              "        <path d=\"M19 3H5c-1.1 0-2 .9-2 2v14c0 1.1.9 2 2 2h14c1.1 0 2-.9 2-2V5c0-1.1-.9-2-2-2zM9 17H7v-7h2v7zm4 0h-2V7h2v10zm4 0h-2v-4h2v4z\"/>\n",
              "    </g>\n",
              "</svg>\n",
              "  </button>\n",
              "\n",
              "<style>\n",
              "  .colab-df-quickchart {\n",
              "      --bg-color: #E8F0FE;\n",
              "      --fill-color: #1967D2;\n",
              "      --hover-bg-color: #E2EBFA;\n",
              "      --hover-fill-color: #174EA6;\n",
              "      --disabled-fill-color: #AAA;\n",
              "      --disabled-bg-color: #DDD;\n",
              "  }\n",
              "\n",
              "  [theme=dark] .colab-df-quickchart {\n",
              "      --bg-color: #3B4455;\n",
              "      --fill-color: #D2E3FC;\n",
              "      --hover-bg-color: #434B5C;\n",
              "      --hover-fill-color: #FFFFFF;\n",
              "      --disabled-bg-color: #3B4455;\n",
              "      --disabled-fill-color: #666;\n",
              "  }\n",
              "\n",
              "  .colab-df-quickchart {\n",
              "    background-color: var(--bg-color);\n",
              "    border: none;\n",
              "    border-radius: 50%;\n",
              "    cursor: pointer;\n",
              "    display: none;\n",
              "    fill: var(--fill-color);\n",
              "    height: 32px;\n",
              "    padding: 0;\n",
              "    width: 32px;\n",
              "  }\n",
              "\n",
              "  .colab-df-quickchart:hover {\n",
              "    background-color: var(--hover-bg-color);\n",
              "    box-shadow: 0 1px 2px rgba(60, 64, 67, 0.3), 0 1px 3px 1px rgba(60, 64, 67, 0.15);\n",
              "    fill: var(--button-hover-fill-color);\n",
              "  }\n",
              "\n",
              "  .colab-df-quickchart-complete:disabled,\n",
              "  .colab-df-quickchart-complete:disabled:hover {\n",
              "    background-color: var(--disabled-bg-color);\n",
              "    fill: var(--disabled-fill-color);\n",
              "    box-shadow: none;\n",
              "  }\n",
              "\n",
              "  .colab-df-spinner {\n",
              "    border: 2px solid var(--fill-color);\n",
              "    border-color: transparent;\n",
              "    border-bottom-color: var(--fill-color);\n",
              "    animation:\n",
              "      spin 1s steps(1) infinite;\n",
              "  }\n",
              "\n",
              "  @keyframes spin {\n",
              "    0% {\n",
              "      border-color: transparent;\n",
              "      border-bottom-color: var(--fill-color);\n",
              "      border-left-color: var(--fill-color);\n",
              "    }\n",
              "    20% {\n",
              "      border-color: transparent;\n",
              "      border-left-color: var(--fill-color);\n",
              "      border-top-color: var(--fill-color);\n",
              "    }\n",
              "    30% {\n",
              "      border-color: transparent;\n",
              "      border-left-color: var(--fill-color);\n",
              "      border-top-color: var(--fill-color);\n",
              "      border-right-color: var(--fill-color);\n",
              "    }\n",
              "    40% {\n",
              "      border-color: transparent;\n",
              "      border-right-color: var(--fill-color);\n",
              "      border-top-color: var(--fill-color);\n",
              "    }\n",
              "    60% {\n",
              "      border-color: transparent;\n",
              "      border-right-color: var(--fill-color);\n",
              "    }\n",
              "    80% {\n",
              "      border-color: transparent;\n",
              "      border-right-color: var(--fill-color);\n",
              "      border-bottom-color: var(--fill-color);\n",
              "    }\n",
              "    90% {\n",
              "      border-color: transparent;\n",
              "      border-bottom-color: var(--fill-color);\n",
              "    }\n",
              "  }\n",
              "</style>\n",
              "\n",
              "  <script>\n",
              "    async function quickchart(key) {\n",
              "      const quickchartButtonEl =\n",
              "        document.querySelector('#' + key + ' button');\n",
              "      quickchartButtonEl.disabled = true;  // To prevent multiple clicks.\n",
              "      quickchartButtonEl.classList.add('colab-df-spinner');\n",
              "      try {\n",
              "        const charts = await google.colab.kernel.invokeFunction(\n",
              "            'suggestCharts', [key], {});\n",
              "      } catch (error) {\n",
              "        console.error('Error during call to suggestCharts:', error);\n",
              "      }\n",
              "      quickchartButtonEl.classList.remove('colab-df-spinner');\n",
              "      quickchartButtonEl.classList.add('colab-df-quickchart-complete');\n",
              "    }\n",
              "    (() => {\n",
              "      let quickchartButtonEl =\n",
              "        document.querySelector('#df-45852db1-936e-4fb6-80f2-14a9088f661e button');\n",
              "      quickchartButtonEl.style.display =\n",
              "        google.colab.kernel.accessAllowed ? 'block' : 'none';\n",
              "    })();\n",
              "  </script>\n",
              "</div>\n",
              "    </div>\n",
              "  </div>\n"
            ]
          },
          "metadata": {},
          "execution_count": 7
        }
      ]
    },
    {
      "cell_type": "code",
      "source": [
        "df1=df.reset_index()['close']"
      ],
      "metadata": {
        "id": "ffd8T4GFyJpx"
      },
      "execution_count": 8,
      "outputs": []
    },
    {
      "cell_type": "code",
      "source": [
        "df.shape"
      ],
      "metadata": {
        "colab": {
          "base_uri": "https://localhost:8080/"
        },
        "id": "e4qxXGLHyZz0",
        "outputId": "a9065886-21a0-4d77-eae3-22ff5a8631c9"
      },
      "execution_count": 10,
      "outputs": [
        {
          "output_type": "execute_result",
          "data": {
            "text/plain": [
              "(1257, 14)"
            ]
          },
          "metadata": {},
          "execution_count": 10
        }
      ]
    },
    {
      "cell_type": "code",
      "source": [
        "df1"
      ],
      "metadata": {
        "colab": {
          "base_uri": "https://localhost:8080/"
        },
        "id": "yc5Hi0HdyQWk",
        "outputId": "e5ecf2dd-853e-4f0d-b59c-d4ce05dda8c6"
      },
      "execution_count": 9,
      "outputs": [
        {
          "output_type": "execute_result",
          "data": {
            "text/plain": [
              "0       217.88\n",
              "1       218.24\n",
              "2       218.37\n",
              "3       220.03\n",
              "4       217.66\n",
              "         ...  \n",
              "1252    178.18\n",
              "1253    179.36\n",
              "1254    176.30\n",
              "1255    174.21\n",
              "1256    175.74\n",
              "Name: close, Length: 1257, dtype: float64"
            ]
          },
          "metadata": {},
          "execution_count": 9
        }
      ]
    },
    {
      "cell_type": "code",
      "source": [
        "import matplotlib.pyplot as plt\n",
        "plt.plot(df1)"
      ],
      "metadata": {
        "colab": {
          "base_uri": "https://localhost:8080/",
          "height": 448
        },
        "id": "70YSPE-fyT83",
        "outputId": "b3e59e09-2337-42c3-aee4-534ff7124762"
      },
      "execution_count": 11,
      "outputs": [
        {
          "output_type": "execute_result",
          "data": {
            "text/plain": [
              "[<matplotlib.lines.Line2D at 0x7fd2e2cc2980>]"
            ]
          },
          "metadata": {},
          "execution_count": 11
        },
        {
          "output_type": "display_data",
          "data": {
            "text/plain": [
              "<Figure size 640x480 with 1 Axes>"
            ],
            "image/png": "[encoded data removed]"
          },
          "metadata": {}
        }
      ]
    },
    {
      "cell_type": "code",
      "source": [
        "import numpy as np"
      ],
      "metadata": {
        "id": "zsCmXFVByemp"
      },
      "execution_count": 12,
      "outputs": []
    },
    {
      "cell_type": "markdown",
      "source": [
        "Scaling df between 0 to 1"
      ],
      "metadata": {
        "id": "cpiSSv5MzUu6"
      }
    },
    {
      "cell_type": "code",
      "source": [
        "from sklearn.preprocessing import MinMaxScaler\n",
        "scaler=MinMaxScaler(feature_range=(0,1))\n",
        "df1=scaler.fit_transform(np.array(df1).reshape(-1,1))"
      ],
      "metadata": {
        "id": "efBBe0QhzQda"
      },
      "execution_count": 13,
      "outputs": []
    },
    {
      "cell_type": "code",
      "source": [
        "print(df1)"
      ],
      "metadata": {
        "colab": {
          "base_uri": "https://localhost:8080/"
        },
        "id": "l0GbpFulzTw4",
        "outputId": "dff4c4b7-a2dd-46bc-ecd0-1b80ff3ea478"
      },
      "execution_count": 14,
      "outputs": [
        {
          "output_type": "stream",
          "name": "stdout",
          "text": [
            "[[0.27812148]\n",
            " [0.27902317]\n",
            " [0.27934878]\n",
            " ...\n",
            " [0.17397621]\n",
            " [0.16874139]\n",
            " [0.17257358]]\n"
          ]
        }
      ]
    },
    {
      "cell_type": "markdown",
      "source": [
        "Splitting dataset into train and test split"
      ],
      "metadata": {
        "id": "OyanvFuNzgp4"
      }
    },
    {
      "cell_type": "code",
      "source": [
        "training_size=int(len(df1)*0.65)\n",
        "test_size=len(df1)-training_size\n",
        "train_data,test_data=df1[0:training_size,:],df1[training_size:len(df1),:1]"
      ],
      "metadata": {
        "id": "9kXVR0ffzcZ5"
      },
      "execution_count": 15,
      "outputs": []
    },
    {
      "cell_type": "code",
      "source": [
        "training_size,test_size"
      ],
      "metadata": {
        "colab": {
          "base_uri": "https://localhost:8080/"
        },
        "id": "CE2ib6FG0S1q",
        "outputId": "5e0a7c4b-9fc2-4693-b301-78c6ac8955f1"
      },
      "execution_count": 16,
      "outputs": [
        {
          "output_type": "execute_result",
          "data": {
            "text/plain": [
              "(817, 440)"
            ]
          },
          "metadata": {},
          "execution_count": 16
        }
      ]
    },
    {
      "cell_type": "markdown",
      "source": [
        "Convert an array of values into a dataset matrix"
      ],
      "metadata": {
        "id": "HJXJXsju1OX6"
      }
    },
    {
      "cell_type": "code",
      "source": [
        "import numpy\n",
        "def create_dataset(dataset, time_step=1):\n",
        "\tdataX, dataY = [], []\n",
        "\tfor i in range(len(dataset)-time_step-1):\n",
        "\t\ta = dataset[i:(i+time_step), 0]\n",
        "\t\tdataX.append(a)\n",
        "\t\tdataY.append(dataset[i + time_step, 0])\n",
        "\treturn numpy.array(dataX), numpy.array(dataY)"
      ],
      "metadata": {
        "id": "EZQA905t0aKp"
      },
      "execution_count": 18,
      "outputs": []
    },
    {
      "cell_type": "code",
      "source": [
        "time_step = 100\n",
        "X_train, y_train = create_dataset(train_data, time_step)\n",
        "X_test, ytest = create_dataset(test_data, time_step)"
      ],
      "metadata": {
        "id": "GckStgYII2yo"
      },
      "execution_count": 19,
      "outputs": []
    },
    {
      "cell_type": "code",
      "source": [
        "print(X_train.shape), print(y_train.shape)"
      ],
      "metadata": {
        "colab": {
          "base_uri": "https://localhost:8080/"
        },
        "id": "DPAil_0UI5ow",
        "outputId": "038f5ed4-2edd-4120-bc20-619dc44b5edc"
      },
      "execution_count": 20,
      "outputs": [
        {
          "output_type": "stream",
          "name": "stdout",
          "text": [
            "(716, 100)\n",
            "(716,)\n"
          ]
        },
        {
          "output_type": "execute_result",
          "data": {
            "text/plain": [
              "(None, None)"
            ]
          },
          "metadata": {},
          "execution_count": 20
        }
      ]
    },
    {
      "cell_type": "code",
      "source": [
        "print(X_test.shape), print(ytest.shape)"
      ],
      "metadata": {
        "colab": {
          "base_uri": "https://localhost:8080/"
        },
        "id": "4BWz1xivI_sj",
        "outputId": "2dd51ed5-51a7-4687-e010-17e4ab98ed01"
      },
      "execution_count": 21,
      "outputs": [
        {
          "output_type": "stream",
          "name": "stdout",
          "text": [
            "(339, 100)\n",
            "(339,)\n"
          ]
        },
        {
          "output_type": "execute_result",
          "data": {
            "text/plain": [
              "(None, None)"
            ]
          },
          "metadata": {},
          "execution_count": 21
        }
      ]
    },
    {
      "cell_type": "markdown",
      "source": [
        "Reshape input to be [samples, time steps, features] which is required for LSTM"
      ],
      "metadata": {
        "id": "I1cJBETWJemS"
      }
    },
    {
      "cell_type": "code",
      "source": [
        "X_train =X_train.reshape(X_train.shape[0],X_train.shape[1] , 1)\n",
        "X_test = X_test.reshape(X_test.shape[0],X_test.shape[1] , 1)"
      ],
      "metadata": {
        "id": "gPchITNYJeUl"
      },
      "execution_count": 22,
      "outputs": []
    },
    {
      "cell_type": "markdown",
      "source": [
        "Create the Stacked LSTM model"
      ],
      "metadata": {
        "id": "ZTQQigbAJqtR"
      }
    },
    {
      "cell_type": "code",
      "source": [
        "import tensorflow\n",
        "from tensorflow.keras.models import Sequential\n",
        "from tensorflow.keras.layers import Dense\n",
        "from tensorflow.keras.layers import LSTM"
      ],
      "metadata": {
        "id": "GQg6HL-4JDQV"
      },
      "execution_count": 24,
      "outputs": []
    },
    {
      "cell_type": "code",
      "source": [
        "model=Sequential()\n",
        "model.add(LSTM(50,return_sequences=True,input_shape=(100,1)))\n",
        "model.add(LSTM(50,return_sequences=True))\n",
        "model.add(LSTM(50))\n",
        "model.add(Dense(1))\n",
        "model.compile(loss='mean_squared_error',optimizer='adam')"
      ],
      "metadata": {
        "id": "tV7Bz-z3JteC"
      },
      "execution_count": 25,
      "outputs": []
    },
    {
      "cell_type": "code",
      "source": [
        "model.summary()"
      ],
      "metadata": {
        "colab": {
          "base_uri": "https://localhost:8080/"
        },
        "id": "cchj57OzKDvL",
        "outputId": "3b64b7a3-cd7c-4ba9-caca-f49f62594fa7"
      },
      "execution_count": 26,
      "outputs": [
        {
          "output_type": "stream",
          "name": "stdout",
          "text": [
            "Model: \"sequential\"\n",
            "_________________________________________________________________\n",
            " Layer (type)                Output Shape              Param #   \n",
            "=================================================================\n",
            " lstm (LSTM)                 (None, 100, 50)           10400     \n",
            "                                                                 \n",
            " lstm_1 (LSTM)               (None, 100, 50)           20200     \n",
            "                                                                 \n",
            " lstm_2 (LSTM)               (None, 50)                20200     \n",
            "                                                                 \n",
            " dense (Dense)               (None, 1)                 51        \n",
            "                                                                 \n",
            "=================================================================\n",
            "Total params: 50851 (198.64 KB)\n",
            "Trainable params: 50851 (198.64 KB)\n",
            "Non-trainable params: 0 (0.00 Byte)\n",
            "_________________________________________________________________\n"
          ]
        }
      ]
    },
    {
      "cell_type": "code",
      "source": [
        "model.fit(X_train,y_train,validation_data=(X_test,ytest),epochs=100,batch_size=64,verbose=1)"
      ],
      "metadata": {
        "colab": {
          "base_uri": "https://localhost:8080/"
        },
        "id": "9_rNgPH8KQmv",
        "outputId": "3eec0b8e-540a-494e-e08e-e45d35d462ef"
      },
      "execution_count": 27,
      "outputs": [
        {
          "output_type": "stream",
          "name": "stdout",
          "text": [
            "Epoch 1/100\n",
            "12/12 [==============================] - 7s 190ms/step - loss: 0.0354 - val_loss: 6.6155e-04\n",
            "Epoch 2/100\n",
            "12/12 [==============================] - 1s 113ms/step - loss: 0.0139 - val_loss: 0.0021\n",
            "Epoch 3/100\n",
            "12/12 [==============================] - 2s 130ms/step - loss: 0.0109 - val_loss: 3.8827e-04\n",
            "Epoch 4/100\n",
            "12/12 [==============================] - 2s 149ms/step - loss: 0.0104 - val_loss: 0.0011\n",
            "Epoch 5/100\n",
            "12/12 [==============================] - 1s 113ms/step - loss: 0.0086 - val_loss: 0.0020\n",
            "Epoch 6/100\n",
            "12/12 [==============================] - 1s 115ms/step - loss: 0.0079 - val_loss: 3.6017e-04\n",
            "Epoch 7/100\n",
            "12/12 [==============================] - 1s 117ms/step - loss: 0.0077 - val_loss: 0.0012\n",
            "Epoch 8/100\n",
            "12/12 [==============================] - 1s 116ms/step - loss: 0.0069 - val_loss: 6.9067e-04\n",
            "Epoch 9/100\n",
            "12/12 [==============================] - 1s 115ms/step - loss: 0.0059 - val_loss: 8.6058e-04\n",
            "Epoch 10/100\n",
            "12/12 [==============================] - 1s 115ms/step - loss: 0.0057 - val_loss: 6.7118e-04\n",
            "Epoch 11/100\n",
            "12/12 [==============================] - 1s 120ms/step - loss: 0.0073 - val_loss: 8.9678e-04\n",
            "Epoch 12/100\n",
            "12/12 [==============================] - 2s 158ms/step - loss: 0.0047 - val_loss: 6.5050e-04\n",
            "Epoch 13/100\n",
            "12/12 [==============================] - 1s 115ms/step - loss: 0.0047 - val_loss: 2.6769e-04\n",
            "Epoch 14/100\n",
            "12/12 [==============================] - 1s 116ms/step - loss: 0.0044 - val_loss: 2.8512e-04\n",
            "Epoch 15/100\n",
            "12/12 [==============================] - 1s 114ms/step - loss: 0.0039 - val_loss: 3.7429e-04\n",
            "Epoch 16/100\n",
            "12/12 [==============================] - 1s 116ms/step - loss: 0.0039 - val_loss: 3.0467e-04\n",
            "Epoch 17/100\n",
            "12/12 [==============================] - 1s 110ms/step - loss: 0.0034 - val_loss: 2.9018e-04\n",
            "Epoch 18/100\n",
            "12/12 [==============================] - 1s 113ms/step - loss: 0.0032 - val_loss: 3.4152e-04\n",
            "Epoch 19/100\n",
            "12/12 [==============================] - 1s 117ms/step - loss: 0.0029 - val_loss: 2.5571e-04\n",
            "Epoch 20/100\n",
            "12/12 [==============================] - 2s 166ms/step - loss: 0.0035 - val_loss: 5.8504e-04\n",
            "Epoch 21/100\n",
            "12/12 [==============================] - 1s 116ms/step - loss: 0.0042 - val_loss: 3.9220e-04\n",
            "Epoch 22/100\n",
            "12/12 [==============================] - 1s 115ms/step - loss: 0.0034 - val_loss: 2.3063e-04\n",
            "Epoch 23/100\n",
            "12/12 [==============================] - 1s 115ms/step - loss: 0.0055 - val_loss: 2.2315e-04\n",
            "Epoch 24/100\n",
            "12/12 [==============================] - 1s 118ms/step - loss: 0.0038 - val_loss: 3.5636e-04\n",
            "Epoch 25/100\n",
            "12/12 [==============================] - 1s 118ms/step - loss: 0.0029 - val_loss: 2.7638e-04\n",
            "Epoch 26/100\n",
            "12/12 [==============================] - 1s 116ms/step - loss: 0.0028 - val_loss: 2.7894e-04\n",
            "Epoch 27/100\n",
            "12/12 [==============================] - 1s 115ms/step - loss: 0.0024 - val_loss: 2.7739e-04\n",
            "Epoch 28/100\n",
            "12/12 [==============================] - 2s 168ms/step - loss: 0.0022 - val_loss: 2.2501e-04\n",
            "Epoch 29/100\n",
            "12/12 [==============================] - 1s 112ms/step - loss: 0.0021 - val_loss: 2.5445e-04\n",
            "Epoch 30/100\n",
            "12/12 [==============================] - 1s 116ms/step - loss: 0.0027 - val_loss: 5.6360e-04\n",
            "Epoch 31/100\n",
            "12/12 [==============================] - 1s 118ms/step - loss: 0.0026 - val_loss: 2.3529e-04\n",
            "Epoch 32/100\n",
            "12/12 [==============================] - 1s 117ms/step - loss: 0.0019 - val_loss: 2.5102e-04\n",
            "Epoch 33/100\n",
            "12/12 [==============================] - 1s 115ms/step - loss: 0.0019 - val_loss: 2.3952e-04\n",
            "Epoch 34/100\n",
            "12/12 [==============================] - 1s 114ms/step - loss: 0.0018 - val_loss: 2.3121e-04\n",
            "Epoch 35/100\n",
            "12/12 [==============================] - 1s 114ms/step - loss: 0.0016 - val_loss: 2.3354e-04\n",
            "Epoch 36/100\n",
            "12/12 [==============================] - 2s 158ms/step - loss: 0.0020 - val_loss: 3.4853e-04\n",
            "Epoch 37/100\n",
            "12/12 [==============================] - 1s 120ms/step - loss: 0.0019 - val_loss: 2.6928e-04\n",
            "Epoch 38/100\n",
            "12/12 [==============================] - 1s 114ms/step - loss: 0.0027 - val_loss: 3.0653e-04\n",
            "Epoch 39/100\n",
            "12/12 [==============================] - 1s 115ms/step - loss: 0.0017 - val_loss: 3.2810e-04\n",
            "Epoch 40/100\n",
            "12/12 [==============================] - 1s 116ms/step - loss: 0.0018 - val_loss: 2.3622e-04\n",
            "Epoch 41/100\n",
            "12/12 [==============================] - 1s 120ms/step - loss: 0.0017 - val_loss: 2.3299e-04\n",
            "Epoch 42/100\n",
            "12/12 [==============================] - 1s 120ms/step - loss: 0.0016 - val_loss: 2.3264e-04\n",
            "Epoch 43/100\n",
            "12/12 [==============================] - 1s 119ms/step - loss: 0.0015 - val_loss: 2.4951e-04\n",
            "Epoch 44/100\n",
            "12/12 [==============================] - 2s 159ms/step - loss: 0.0018 - val_loss: 2.4987e-04\n",
            "Epoch 45/100\n",
            "12/12 [==============================] - 2s 133ms/step - loss: 0.0026 - val_loss: 4.4016e-04\n",
            "Epoch 46/100\n",
            "12/12 [==============================] - 1s 115ms/step - loss: 0.0037 - val_loss: 2.6976e-04\n",
            "Epoch 47/100\n",
            "12/12 [==============================] - 1s 112ms/step - loss: 0.0033 - val_loss: 5.2705e-04\n",
            "Epoch 48/100\n",
            "12/12 [==============================] - 1s 116ms/step - loss: 0.0040 - val_loss: 4.0968e-04\n",
            "Epoch 49/100\n",
            "12/12 [==============================] - 1s 114ms/step - loss: 0.0022 - val_loss: 2.8271e-04\n",
            "Epoch 50/100\n",
            "12/12 [==============================] - 1s 115ms/step - loss: 0.0032 - val_loss: 2.4675e-04\n",
            "Epoch 51/100\n",
            "12/12 [==============================] - 1s 115ms/step - loss: 0.0026 - val_loss: 2.6134e-04\n",
            "Epoch 52/100\n",
            "12/12 [==============================] - 2s 155ms/step - loss: 0.0023 - val_loss: 2.3562e-04\n",
            "Epoch 53/100\n",
            "12/12 [==============================] - 2s 125ms/step - loss: 0.0021 - val_loss: 3.1165e-04\n",
            "Epoch 54/100\n",
            "12/12 [==============================] - 2s 138ms/step - loss: 0.0021 - val_loss: 2.5665e-04\n",
            "Epoch 55/100\n",
            "12/12 [==============================] - 2s 137ms/step - loss: 0.0016 - val_loss: 2.8502e-04\n",
            "Epoch 56/100\n",
            "12/12 [==============================] - 1s 115ms/step - loss: 0.0015 - val_loss: 2.5017e-04\n",
            "Epoch 57/100\n",
            "12/12 [==============================] - 1s 117ms/step - loss: 0.0017 - val_loss: 2.9275e-04\n",
            "Epoch 58/100\n",
            "12/12 [==============================] - 1s 115ms/step - loss: 0.0015 - val_loss: 2.3449e-04\n",
            "Epoch 59/100\n",
            "12/12 [==============================] - 1s 116ms/step - loss: 0.0017 - val_loss: 2.3152e-04\n",
            "Epoch 60/100\n",
            "12/12 [==============================] - 2s 169ms/step - loss: 0.0017 - val_loss: 2.5529e-04\n",
            "Epoch 61/100\n",
            "12/12 [==============================] - 1s 113ms/step - loss: 0.0025 - val_loss: 2.3192e-04\n",
            "Epoch 62/100\n",
            "12/12 [==============================] - 1s 112ms/step - loss: 0.0042 - val_loss: 2.5651e-04\n",
            "Epoch 63/100\n",
            "12/12 [==============================] - 1s 117ms/step - loss: 0.0035 - val_loss: 2.7636e-04\n",
            "Epoch 64/100\n",
            "12/12 [==============================] - 1s 114ms/step - loss: 0.0021 - val_loss: 2.9538e-04\n",
            "Epoch 65/100\n",
            "12/12 [==============================] - 1s 115ms/step - loss: 0.0017 - val_loss: 2.3415e-04\n",
            "Epoch 66/100\n",
            "12/12 [==============================] - 1s 114ms/step - loss: 0.0019 - val_loss: 2.3028e-04\n",
            "Epoch 67/100\n",
            "12/12 [==============================] - 1s 117ms/step - loss: 0.0016 - val_loss: 2.3040e-04\n",
            "Epoch 68/100\n",
            "12/12 [==============================] - 2s 159ms/step - loss: 0.0015 - val_loss: 2.1948e-04\n",
            "Epoch 69/100\n",
            "12/12 [==============================] - 1s 119ms/step - loss: 0.0014 - val_loss: 2.3704e-04\n",
            "Epoch 70/100\n",
            "12/12 [==============================] - 1s 117ms/step - loss: 0.0014 - val_loss: 2.5453e-04\n",
            "Epoch 71/100\n",
            "12/12 [==============================] - 1s 114ms/step - loss: 0.0016 - val_loss: 2.5086e-04\n",
            "Epoch 72/100\n",
            "12/12 [==============================] - 1s 118ms/step - loss: 0.0018 - val_loss: 2.2713e-04\n",
            "Epoch 73/100\n",
            "12/12 [==============================] - 1s 115ms/step - loss: 0.0012 - val_loss: 2.5176e-04\n",
            "Epoch 74/100\n",
            "12/12 [==============================] - 1s 116ms/step - loss: 0.0012 - val_loss: 2.2486e-04\n",
            "Epoch 75/100\n",
            "12/12 [==============================] - 1s 115ms/step - loss: 0.0011 - val_loss: 2.3232e-04\n",
            "Epoch 76/100\n",
            "12/12 [==============================] - 2s 155ms/step - loss: 0.0010 - val_loss: 2.2736e-04\n",
            "Epoch 77/100\n",
            "12/12 [==============================] - 2s 125ms/step - loss: 0.0011 - val_loss: 2.2343e-04\n",
            "Epoch 78/100\n",
            "12/12 [==============================] - 1s 113ms/step - loss: 0.0012 - val_loss: 2.9286e-04\n",
            "Epoch 79/100\n",
            "12/12 [==============================] - 1s 113ms/step - loss: 0.0028 - val_loss: 3.2660e-04\n",
            "Epoch 80/100\n",
            "12/12 [==============================] - 1s 114ms/step - loss: 0.0023 - val_loss: 2.4333e-04\n",
            "Epoch 81/100\n",
            "12/12 [==============================] - 1s 117ms/step - loss: 0.0032 - val_loss: 3.0381e-04\n",
            "Epoch 82/100\n",
            "12/12 [==============================] - 1s 114ms/step - loss: 0.0013 - val_loss: 2.2934e-04\n",
            "Epoch 83/100\n",
            "12/12 [==============================] - 1s 117ms/step - loss: 0.0021 - val_loss: 2.6583e-04\n",
            "Epoch 84/100\n",
            "12/12 [==============================] - 2s 146ms/step - loss: 0.0043 - val_loss: 5.2987e-04\n",
            "Epoch 85/100\n",
            "12/12 [==============================] - 2s 135ms/step - loss: 0.0037 - val_loss: 2.8989e-04\n",
            "Epoch 86/100\n",
            "12/12 [==============================] - 1s 117ms/step - loss: 0.0027 - val_loss: 2.5855e-04\n",
            "Epoch 87/100\n",
            "12/12 [==============================] - 1s 122ms/step - loss: 0.0051 - val_loss: 2.2995e-04\n",
            "Epoch 88/100\n",
            "12/12 [==============================] - 1s 121ms/step - loss: 0.0041 - val_loss: 2.0256e-04\n",
            "Epoch 89/100\n",
            "12/12 [==============================] - 1s 120ms/step - loss: 0.0032 - val_loss: 4.1690e-04\n",
            "Epoch 90/100\n",
            "12/12 [==============================] - 1s 114ms/step - loss: 0.0029 - val_loss: 2.9494e-04\n",
            "Epoch 91/100\n",
            "12/12 [==============================] - 1s 119ms/step - loss: 0.0021 - val_loss: 2.4779e-04\n",
            "Epoch 92/100\n",
            "12/12 [==============================] - 2s 156ms/step - loss: 0.0020 - val_loss: 2.1617e-04\n",
            "Epoch 93/100\n",
            "12/12 [==============================] - 2s 130ms/step - loss: 0.0020 - val_loss: 2.9708e-04\n",
            "Epoch 94/100\n",
            "12/12 [==============================] - 1s 113ms/step - loss: 0.0017 - val_loss: 2.5565e-04\n",
            "Epoch 95/100\n",
            "12/12 [==============================] - 1s 116ms/step - loss: 0.0014 - val_loss: 2.3596e-04\n",
            "Epoch 96/100\n",
            "12/12 [==============================] - 1s 117ms/step - loss: 0.0021 - val_loss: 2.5844e-04\n",
            "Epoch 97/100\n",
            "12/12 [==============================] - 1s 118ms/step - loss: 0.0016 - val_loss: 2.4220e-04\n",
            "Epoch 98/100\n",
            "12/12 [==============================] - 1s 118ms/step - loss: 0.0012 - val_loss: 3.5057e-04\n",
            "Epoch 99/100\n",
            "12/12 [==============================] - 1s 115ms/step - loss: 0.0012 - val_loss: 2.1356e-04\n",
            "Epoch 100/100\n",
            "12/12 [==============================] - 2s 144ms/step - loss: 0.0011 - val_loss: 2.1418e-04\n"
          ]
        },
        {
          "output_type": "execute_result",
          "data": {
            "text/plain": [
              "<keras.src.callbacks.History at 0x7fd284266fe0>"
            ]
          },
          "metadata": {},
          "execution_count": 27
        }
      ]
    },
    {
      "cell_type": "code",
      "source": [
        "import tensorflow as tf"
      ],
      "metadata": {
        "id": "kwcanh5wKYFB"
      },
      "execution_count": 28,
      "outputs": []
    },
    {
      "cell_type": "code",
      "source": [
        "tf.__version__"
      ],
      "metadata": {
        "colab": {
          "base_uri": "https://localhost:8080/",
          "height": 36
        },
        "id": "4kWi5V8vV9tY",
        "outputId": "ddfc5b03-a962-4298-c71b-13e3ebb6eaaa"
      },
      "execution_count": 29,
      "outputs": [
        {
          "output_type": "execute_result",
          "data": {
            "text/plain": [
              "'2.13.0'"
            ],
            "application/vnd.google.colaboratory.intrinsic+json": {
              "type": "string"
            }
          },
          "metadata": {},
          "execution_count": 29
        }
      ]
    },
    {
      "cell_type": "markdown",
      "source": [
        "Prediction and check performance metrics"
      ],
      "metadata": {
        "id": "WlJ7LFDQWB79"
      }
    },
    {
      "cell_type": "code",
      "source": [
        "train_predict=model.predict(X_train)\n",
        "test_predict=model.predict(X_test)"
      ],
      "metadata": {
        "colab": {
          "base_uri": "https://localhost:8080/"
        },
        "id": "h0MME_U_V_UX",
        "outputId": "0d219f40-7469-4de0-b5e9-cf10eea2189e"
      },
      "execution_count": 30,
      "outputs": [
        {
          "output_type": "stream",
          "name": "stdout",
          "text": [
            "23/23 [==============================] - 3s 24ms/step\n",
            "11/11 [==============================] - 0s 22ms/step\n"
          ]
        }
      ]
    },
    {
      "cell_type": "markdown",
      "source": [
        "Transformback to original form\n"
      ],
      "metadata": {
        "id": "z5mANTenWL5M"
      }
    },
    {
      "cell_type": "code",
      "source": [
        "train_predict=scaler.inverse_transform(train_predict)\n",
        "test_predict=scaler.inverse_transform(test_predict)"
      ],
      "metadata": {
        "id": "tUCSx9wbWFoH"
      },
      "execution_count": 31,
      "outputs": []
    },
    {
      "cell_type": "markdown",
      "source": [
        "RMSE performance metrics"
      ],
      "metadata": {
        "id": "gd0yUit9WP0f"
      }
    },
    {
      "cell_type": "code",
      "source": [
        "import math\n",
        "from sklearn.metrics import mean_squared_error\n",
        "math.sqrt(mean_squared_error(y_train,train_predict))"
      ],
      "metadata": {
        "colab": {
          "base_uri": "https://localhost:8080/"
        },
        "id": "YzJqAmTHWNRt",
        "outputId": "d4594f1a-738d-460a-92b5-4cd939ce9f32"
      },
      "execution_count": 34,
      "outputs": [
        {
          "output_type": "execute_result",
          "data": {
            "text/plain": [
              "225.85330831650398"
            ]
          },
          "metadata": {},
          "execution_count": 34
        }
      ]
    },
    {
      "cell_type": "markdown",
      "source": [
        "Test Data RMSE\n"
      ],
      "metadata": {
        "id": "9pMqhC4eWXWR"
      }
    },
    {
      "cell_type": "code",
      "source": [
        "math.sqrt(mean_squared_error(ytest,test_predict))"
      ],
      "metadata": {
        "colab": {
          "base_uri": "https://localhost:8080/"
        },
        "id": "1jAuj0odWT9w",
        "outputId": "ec27ded7-9efe-419f-fa9b-ad1ecee58ff8"
      },
      "execution_count": 35,
      "outputs": [
        {
          "output_type": "execute_result",
          "data": {
            "text/plain": [
              "160.90909938356774"
            ]
          },
          "metadata": {},
          "execution_count": 35
        }
      ]
    },
    {
      "cell_type": "markdown",
      "source": [
        "Plotting"
      ],
      "metadata": {
        "id": "kqVI7xJ_WoN8"
      }
    },
    {
      "cell_type": "code",
      "source": [
        "# shift train predictions for plotting\n",
        "look_back=100\n",
        "trainPredictPlot = numpy.empty_like(df1)\n",
        "trainPredictPlot[:, :] = np.nan\n",
        "trainPredictPlot[look_back:len(train_predict)+look_back, :] = train_predict\n",
        "# shift test predictions for plotting\n",
        "testPredictPlot = numpy.empty_like(df1)\n",
        "testPredictPlot[:, :] = numpy.nan\n",
        "testPredictPlot[len(train_predict)+(look_back*2)+1:len(df1)-1, :] = test_predict\n",
        "# plot baseline and predictions\n",
        "plt.plot(scaler.inverse_transform(df1))\n",
        "plt.plot(trainPredictPlot)\n",
        "plt.plot(testPredictPlot)\n",
        "plt.show()"
      ],
      "metadata": {
        "colab": {
          "base_uri": "https://localhost:8080/",
          "height": 430
        },
        "id": "LMyx-RkvWYqT",
        "outputId": "a8564a5b-4bf5-4451-e77a-8eb0f9474126"
      },
      "execution_count": 36,
      "outputs": [
        {
          "output_type": "display_data",
          "data": {
            "text/plain": [
              "<Figure size 640x480 with 1 Axes>"
            ],
            "image/png": "[encoded data removed]"
          },
          "metadata": {}
        }
      ]
    },
    {
      "cell_type": "code",
      "source": [
        "len(test_data)"
      ],
      "metadata": {
        "colab": {
          "base_uri": "https://localhost:8080/"
        },
        "id": "jnGAbHCKWpUO",
        "outputId": "48cf2a77-2359-46b6-9679-234d2ad49192"
      },
      "execution_count": 37,
      "outputs": [
        {
          "output_type": "execute_result",
          "data": {
            "text/plain": [
              "440"
            ]
          },
          "metadata": {},
          "execution_count": 37
        }
      ]
    },
    {
      "cell_type": "code",
      "source": [
        "x_input=test_data[341:].reshape(1,-1)\n",
        "x_input.shape"
      ],
      "metadata": {
        "colab": {
          "base_uri": "https://localhost:8080/"
        },
        "id": "fyv12NETW_6S",
        "outputId": "9258cea5-ae33-46ec-a603-d1cf8aa40cdd"
      },
      "execution_count": 38,
      "outputs": [
        {
          "output_type": "execute_result",
          "data": {
            "text/plain": [
              "(1, 99)"
            ]
          },
          "metadata": {},
          "execution_count": 38
        }
      ]
    },
    {
      "cell_type": "code",
      "source": [
        "temp_input=list(x_input)\n",
        "temp_input=temp_input[0].tolist()"
      ],
      "metadata": {
        "id": "YDr1A46kXCa5"
      },
      "execution_count": 39,
      "outputs": []
    },
    {
      "cell_type": "code",
      "source": [
        "temp_input"
      ],
      "metadata": {
        "colab": {
          "base_uri": "https://localhost:8080/"
        },
        "id": "PjGkrGtJXGrF",
        "outputId": "1074f5fe-ea1e-4730-fce3-7cc10d4d8730"
      },
      "execution_count": 40,
      "outputs": [
        {
          "output_type": "execute_result",
          "data": {
            "text/plain": [
              "[0.14259236067626796,\n",
              " 0.14256731371321218,\n",
              " 0.15421415153412643,\n",
              " 0.15739511584220411,\n",
              " 0.15716969317470253,\n",
              " 0.1545397620538509,\n",
              " 0.15180964308077638,\n",
              " 0.1476518472135253,\n",
              " 0.16713838447088286,\n",
              " 0.16696305572949277,\n",
              " 0.16262993112085156,\n",
              " 0.16710081402629928,\n",
              " 0.16758922980588598,\n",
              " 0.16463368816530988,\n",
              " 0.1633813400125234,\n",
              " 0.1633813400125234,\n",
              " 0.16493425172197868,\n",
              " 0.17084533500313087,\n",
              " 0.17112085159674384,\n",
              " 0.1687163431433938,\n",
              " 0.16210394489668123,\n",
              " 0.16280525986224165,\n",
              " 0.1656856606136506,\n",
              " 0.17179711959924854,\n",
              " 0.17648090169067,\n",
              " 0.17635566687539134,\n",
              " 0.1834690043832185,\n",
              " 0.1856230432060112,\n",
              " 0.18219160926737632,\n",
              " 0.18126487163431432,\n",
              " 0.1777833437695679,\n",
              " 0.18467125860989347,\n",
              " 0.18564809016906697,\n",
              " 0.19273638071383836,\n",
              " 0.1915341264871634,\n",
              " 0.19313713212273004,\n",
              " 0.19829680651221032,\n",
              " 0.1955666875391358,\n",
              " 0.1957921102066374,\n",
              " 0.1931621790857858,\n",
              " 0.2007764558547276,\n",
              " 0.19997495303694424,\n",
              " 0.19644333124608637,\n",
              " 0.2034314339386349,\n",
              " 0.2064120225422667,\n",
              " 0.2072636192861615,\n",
              " 0.21823418910457104,\n",
              " 0.21445209768315587,\n",
              " 0.21162179085785848,\n",
              " 0.21282404508453345,\n",
              " 0.20999373825923606,\n",
              " 0.20480901690670006,\n",
              " 0.20348152786474638,\n",
              " 0.20771446462116466,\n",
              " 0.20964308077645577,\n",
              " 0.21001878522229173,\n",
              " 0.21828428303068248,\n",
              " 0.2176330619912335,\n",
              " 0.22106449592986843,\n",
              " 0.21613024420788973,\n",
              " 0.21314965560425791,\n",
              " 0.215178459611772,\n",
              " 0.21735754539762048,\n",
              " 0.21956167814652466,\n",
              " 0.21635566687539132,\n",
              " 0.22289292423293672,\n",
              " 0.22444583594239192,\n",
              " 0.22232936756418276,\n",
              " 0.21475266123982467,\n",
              " 0.21122103944896675,\n",
              " 0.1882279273638071,\n",
              " 0.18036318096430803,\n",
              " 0.18274264245460237,\n",
              " 0.1787100814026299,\n",
              " 0.17815904821540385,\n",
              " 0.17770820288040068,\n",
              " 0.18189104571070758,\n",
              " 0.1768566061365059,\n",
              " 0.1746524733876017,\n",
              " 0.16821540388227924,\n",
              " 0.16944270507200998,\n",
              " 0.17282404508453347,\n",
              " 0.17630557294927984,\n",
              " 0.18604884157795865,\n",
              " 0.17417658108954281,\n",
              " 0.17976205385097055,\n",
              " 0.18371947401377575,\n",
              " 0.1935629304946775,\n",
              " 0.20240450845335,\n",
              " 0.20295554164057605,\n",
              " 0.20693800876643703,\n",
              " 0.20753913587977452,\n",
              " 0.19053224796493418,\n",
              " 0.1771321227301189,\n",
              " 0.17868503443957418,\n",
              " 0.18164057608015027,\n",
              " 0.17397620538509706,\n",
              " 0.16874139010644956,\n",
              " 0.17257357545397617]"
            ]
          },
          "metadata": {},
          "execution_count": 40
        }
      ]
    },
    {
      "cell_type": "markdown",
      "source": [
        "Demonstrate prediction for next 10 days"
      ],
      "metadata": {
        "id": "6lNHNwewYOY-"
      }
    },
    {
      "cell_type": "code",
      "source": [
        "from numpy import array\n",
        "\n",
        "lst_output=[]\n",
        "n_steps=100\n",
        "n1_steps=99\n",
        "i=0\n",
        "while(i<30):\n",
        "\n",
        "    if(len(temp_input)>100):\n",
        "        #print(temp_input)\n",
        "        x_input=np.array(temp_input[1:])\n",
        "        print(\"{} day input {}\".format(i,x_input))\n",
        "        x_input=x_input.reshape(1,-1)\n",
        "        x_input = x_input.reshape((1, n_steps, 1))\n",
        "        #print(x_input)\n",
        "        yhat = model.predict(x_input, verbose=0)\n",
        "        print(\"{} day output {}\".format(i,yhat))\n",
        "        temp_input.extend(yhat[0].tolist())\n",
        "        temp_input=temp_input[1:]\n",
        "        #print(temp_input)\n",
        "        lst_output.extend(yhat.tolist())\n",
        "        i=i+1\n",
        "    else:\n",
        "        x_input = x_input.reshape((1, n1_steps,1))\n",
        "        yhat = model.predict(x_input, verbose=0)\n",
        "        print(yhat[0])\n",
        "        temp_input.extend(yhat[0].tolist())\n",
        "        print(len(temp_input))\n",
        "        lst_output.extend(yhat.tolist())\n",
        "        i=i+1\n",
        "\n",
        "\n",
        "print(lst_output)"
      ],
      "metadata": {
        "colab": {
          "base_uri": "https://localhost:8080/"
        },
        "id": "vnUtC62rXIdC",
        "outputId": "1a844d15-2c89-464f-f052-da73c92fcf31"
      },
      "execution_count": 43,
      "outputs": [
        {
          "output_type": "stream",
          "name": "stdout",
          "text": [
            "0 day input [0.14256731 0.15421415 0.15739512 0.15716969 0.15453976 0.15180964\n",
            " 0.14765185 0.16713838 0.16696306 0.16262993 0.16710081 0.16758923\n",
            " 0.16463369 0.16338134 0.16338134 0.16493425 0.17084534 0.17112085\n",
            " 0.16871634 0.16210394 0.16280526 0.16568566 0.17179712 0.1764809\n",
            " 0.17635567 0.183469   0.18562304 0.18219161 0.18126487 0.17778334\n",
            " 0.18467126 0.18564809 0.19273638 0.19153413 0.19313713 0.19829681\n",
            " 0.19556669 0.19579211 0.19316218 0.20077646 0.19997495 0.19644333\n",
            " 0.20343143 0.20641202 0.20726362 0.21823419 0.2144521  0.21162179\n",
            " 0.21282405 0.20999374 0.20480902 0.20348153 0.20771446 0.20964308\n",
            " 0.21001879 0.21828428 0.21763306 0.2210645  0.21613024 0.21314966\n",
            " 0.21517846 0.21735755 0.21956168 0.21635567 0.22289292 0.22444584\n",
            " 0.22232937 0.21475266 0.21122104 0.18822793 0.18036318 0.18274264\n",
            " 0.17871008 0.17815905 0.1777082  0.18189105 0.17685661 0.17465247\n",
            " 0.1682154  0.16944271 0.17282405 0.17630557 0.18604884 0.17417658\n",
            " 0.17976205 0.18371947 0.19356293 0.20240451 0.20295554 0.20693801\n",
            " 0.20753914 0.19053225 0.17713212 0.17868503 0.18164058 0.17397621\n",
            " 0.16874139 0.17257358 0.19361557 0.19361557]\n",
            "0 day output [[0.18947245]]\n",
            "1 day input [0.15421415 0.15739512 0.15716969 0.15453976 0.15180964 0.14765185\n",
            " 0.16713838 0.16696306 0.16262993 0.16710081 0.16758923 0.16463369\n",
            " 0.16338134 0.16338134 0.16493425 0.17084534 0.17112085 0.16871634\n",
            " 0.16210394 0.16280526 0.16568566 0.17179712 0.1764809  0.17635567\n",
            " 0.183469   0.18562304 0.18219161 0.18126487 0.17778334 0.18467126\n",
            " 0.18564809 0.19273638 0.19153413 0.19313713 0.19829681 0.19556669\n",
            " 0.19579211 0.19316218 0.20077646 0.19997495 0.19644333 0.20343143\n",
            " 0.20641202 0.20726362 0.21823419 0.2144521  0.21162179 0.21282405\n",
            " 0.20999374 0.20480902 0.20348153 0.20771446 0.20964308 0.21001879\n",
            " 0.21828428 0.21763306 0.2210645  0.21613024 0.21314966 0.21517846\n",
            " 0.21735755 0.21956168 0.21635567 0.22289292 0.22444584 0.22232937\n",
            " 0.21475266 0.21122104 0.18822793 0.18036318 0.18274264 0.17871008\n",
            " 0.17815905 0.1777082  0.18189105 0.17685661 0.17465247 0.1682154\n",
            " 0.16944271 0.17282405 0.17630557 0.18604884 0.17417658 0.17976205\n",
            " 0.18371947 0.19356293 0.20240451 0.20295554 0.20693801 0.20753914\n",
            " 0.19053225 0.17713212 0.17868503 0.18164058 0.17397621 0.16874139\n",
            " 0.17257358 0.19361557 0.19361557 0.18947245]\n",
            "1 day output [[0.18889764]]\n",
            "2 day input [0.15739512 0.15716969 0.15453976 0.15180964 0.14765185 0.16713838\n",
            " 0.16696306 0.16262993 0.16710081 0.16758923 0.16463369 0.16338134\n",
            " 0.16338134 0.16493425 0.17084534 0.17112085 0.16871634 0.16210394\n",
            " 0.16280526 0.16568566 0.17179712 0.1764809  0.17635567 0.183469\n",
            " 0.18562304 0.18219161 0.18126487 0.17778334 0.18467126 0.18564809\n",
            " 0.19273638 0.19153413 0.19313713 0.19829681 0.19556669 0.19579211\n",
            " 0.19316218 0.20077646 0.19997495 0.19644333 0.20343143 0.20641202\n",
            " 0.20726362 0.21823419 0.2144521  0.21162179 0.21282405 0.20999374\n",
            " 0.20480902 0.20348153 0.20771446 0.20964308 0.21001879 0.21828428\n",
            " 0.21763306 0.2210645  0.21613024 0.21314966 0.21517846 0.21735755\n",
            " 0.21956168 0.21635567 0.22289292 0.22444584 0.22232937 0.21475266\n",
            " 0.21122104 0.18822793 0.18036318 0.18274264 0.17871008 0.17815905\n",
            " 0.1777082  0.18189105 0.17685661 0.17465247 0.1682154  0.16944271\n",
            " 0.17282405 0.17630557 0.18604884 0.17417658 0.17976205 0.18371947\n",
            " 0.19356293 0.20240451 0.20295554 0.20693801 0.20753914 0.19053225\n",
            " 0.17713212 0.17868503 0.18164058 0.17397621 0.16874139 0.17257358\n",
            " 0.19361557 0.19361557 0.18947245 0.18889764]\n",
            "2 day output [[0.1888684]]\n",
            "3 day input [0.15716969 0.15453976 0.15180964 0.14765185 0.16713838 0.16696306\n",
            " 0.16262993 0.16710081 0.16758923 0.16463369 0.16338134 0.16338134\n",
            " 0.16493425 0.17084534 0.17112085 0.16871634 0.16210394 0.16280526\n",
            " 0.16568566 0.17179712 0.1764809  0.17635567 0.183469   0.18562304\n",
            " 0.18219161 0.18126487 0.17778334 0.18467126 0.18564809 0.19273638\n",
            " 0.19153413 0.19313713 0.19829681 0.19556669 0.19579211 0.19316218\n",
            " 0.20077646 0.19997495 0.19644333 0.20343143 0.20641202 0.20726362\n",
            " 0.21823419 0.2144521  0.21162179 0.21282405 0.20999374 0.20480902\n",
            " 0.20348153 0.20771446 0.20964308 0.21001879 0.21828428 0.21763306\n",
            " 0.2210645  0.21613024 0.21314966 0.21517846 0.21735755 0.21956168\n",
            " 0.21635567 0.22289292 0.22444584 0.22232937 0.21475266 0.21122104\n",
            " 0.18822793 0.18036318 0.18274264 0.17871008 0.17815905 0.1777082\n",
            " 0.18189105 0.17685661 0.17465247 0.1682154  0.16944271 0.17282405\n",
            " 0.17630557 0.18604884 0.17417658 0.17976205 0.18371947 0.19356293\n",
            " 0.20240451 0.20295554 0.20693801 0.20753914 0.19053225 0.17713212\n",
            " 0.17868503 0.18164058 0.17397621 0.16874139 0.17257358 0.19361557\n",
            " 0.19361557 0.18947245 0.18889764 0.1888684 ]\n",
            "3 day output [[0.18917662]]\n",
            "4 day input [0.15453976 0.15180964 0.14765185 0.16713838 0.16696306 0.16262993\n",
            " 0.16710081 0.16758923 0.16463369 0.16338134 0.16338134 0.16493425\n",
            " 0.17084534 0.17112085 0.16871634 0.16210394 0.16280526 0.16568566\n",
            " 0.17179712 0.1764809  0.17635567 0.183469   0.18562304 0.18219161\n",
            " 0.18126487 0.17778334 0.18467126 0.18564809 0.19273638 0.19153413\n",
            " 0.19313713 0.19829681 0.19556669 0.19579211 0.19316218 0.20077646\n",
            " 0.19997495 0.19644333 0.20343143 0.20641202 0.20726362 0.21823419\n",
            " 0.2144521  0.21162179 0.21282405 0.20999374 0.20480902 0.20348153\n",
            " 0.20771446 0.20964308 0.21001879 0.21828428 0.21763306 0.2210645\n",
            " 0.21613024 0.21314966 0.21517846 0.21735755 0.21956168 0.21635567\n",
            " 0.22289292 0.22444584 0.22232937 0.21475266 0.21122104 0.18822793\n",
            " 0.18036318 0.18274264 0.17871008 0.17815905 0.1777082  0.18189105\n",
            " 0.17685661 0.17465247 0.1682154  0.16944271 0.17282405 0.17630557\n",
            " 0.18604884 0.17417658 0.17976205 0.18371947 0.19356293 0.20240451\n",
            " 0.20295554 0.20693801 0.20753914 0.19053225 0.17713212 0.17868503\n",
            " 0.18164058 0.17397621 0.16874139 0.17257358 0.19361557 0.19361557\n",
            " 0.18947245 0.18889764 0.1888684  0.18917662]\n",
            "4 day output [[0.18970373]]\n",
            "5 day input [0.15180964 0.14765185 0.16713838 0.16696306 0.16262993 0.16710081\n",
            " 0.16758923 0.16463369 0.16338134 0.16338134 0.16493425 0.17084534\n",
            " 0.17112085 0.16871634 0.16210394 0.16280526 0.16568566 0.17179712\n",
            " 0.1764809  0.17635567 0.183469   0.18562304 0.18219161 0.18126487\n",
            " 0.17778334 0.18467126 0.18564809 0.19273638 0.19153413 0.19313713\n",
            " 0.19829681 0.19556669 0.19579211 0.19316218 0.20077646 0.19997495\n",
            " 0.19644333 0.20343143 0.20641202 0.20726362 0.21823419 0.2144521\n",
            " 0.21162179 0.21282405 0.20999374 0.20480902 0.20348153 0.20771446\n",
            " 0.20964308 0.21001879 0.21828428 0.21763306 0.2210645  0.21613024\n",
            " 0.21314966 0.21517846 0.21735755 0.21956168 0.21635567 0.22289292\n",
            " 0.22444584 0.22232937 0.21475266 0.21122104 0.18822793 0.18036318\n",
            " 0.18274264 0.17871008 0.17815905 0.1777082  0.18189105 0.17685661\n",
            " 0.17465247 0.1682154  0.16944271 0.17282405 0.17630557 0.18604884\n",
            " 0.17417658 0.17976205 0.18371947 0.19356293 0.20240451 0.20295554\n",
            " 0.20693801 0.20753914 0.19053225 0.17713212 0.17868503 0.18164058\n",
            " 0.17397621 0.16874139 0.17257358 0.19361557 0.19361557 0.18947245\n",
            " 0.18889764 0.1888684  0.18917662 0.18970373]\n",
            "5 day output [[0.1903893]]\n",
            "6 day input [0.14765185 0.16713838 0.16696306 0.16262993 0.16710081 0.16758923\n",
            " 0.16463369 0.16338134 0.16338134 0.16493425 0.17084534 0.17112085\n",
            " 0.16871634 0.16210394 0.16280526 0.16568566 0.17179712 0.1764809\n",
            " 0.17635567 0.183469   0.18562304 0.18219161 0.18126487 0.17778334\n",
            " 0.18467126 0.18564809 0.19273638 0.19153413 0.19313713 0.19829681\n",
            " 0.19556669 0.19579211 0.19316218 0.20077646 0.19997495 0.19644333\n",
            " 0.20343143 0.20641202 0.20726362 0.21823419 0.2144521  0.21162179\n",
            " 0.21282405 0.20999374 0.20480902 0.20348153 0.20771446 0.20964308\n",
            " 0.21001879 0.21828428 0.21763306 0.2210645  0.21613024 0.21314966\n",
            " 0.21517846 0.21735755 0.21956168 0.21635567 0.22289292 0.22444584\n",
            " 0.22232937 0.21475266 0.21122104 0.18822793 0.18036318 0.18274264\n",
            " 0.17871008 0.17815905 0.1777082  0.18189105 0.17685661 0.17465247\n",
            " 0.1682154  0.16944271 0.17282405 0.17630557 0.18604884 0.17417658\n",
            " 0.17976205 0.18371947 0.19356293 0.20240451 0.20295554 0.20693801\n",
            " 0.20753914 0.19053225 0.17713212 0.17868503 0.18164058 0.17397621\n",
            " 0.16874139 0.17257358 0.19361557 0.19361557 0.18947245 0.18889764\n",
            " 0.1888684  0.18917662 0.18970373 0.19038931]\n",
            "6 day output [[0.19120495]]\n",
            "7 day input [0.16713838 0.16696306 0.16262993 0.16710081 0.16758923 0.16463369\n",
            " 0.16338134 0.16338134 0.16493425 0.17084534 0.17112085 0.16871634\n",
            " 0.16210394 0.16280526 0.16568566 0.17179712 0.1764809  0.17635567\n",
            " 0.183469   0.18562304 0.18219161 0.18126487 0.17778334 0.18467126\n",
            " 0.18564809 0.19273638 0.19153413 0.19313713 0.19829681 0.19556669\n",
            " 0.19579211 0.19316218 0.20077646 0.19997495 0.19644333 0.20343143\n",
            " 0.20641202 0.20726362 0.21823419 0.2144521  0.21162179 0.21282405\n",
            " 0.20999374 0.20480902 0.20348153 0.20771446 0.20964308 0.21001879\n",
            " 0.21828428 0.21763306 0.2210645  0.21613024 0.21314966 0.21517846\n",
            " 0.21735755 0.21956168 0.21635567 0.22289292 0.22444584 0.22232937\n",
            " 0.21475266 0.21122104 0.18822793 0.18036318 0.18274264 0.17871008\n",
            " 0.17815905 0.1777082  0.18189105 0.17685661 0.17465247 0.1682154\n",
            " 0.16944271 0.17282405 0.17630557 0.18604884 0.17417658 0.17976205\n",
            " 0.18371947 0.19356293 0.20240451 0.20295554 0.20693801 0.20753914\n",
            " 0.19053225 0.17713212 0.17868503 0.18164058 0.17397621 0.16874139\n",
            " 0.17257358 0.19361557 0.19361557 0.18947245 0.18889764 0.1888684\n",
            " 0.18917662 0.18970373 0.19038931 0.19120495]\n",
            "7 day output [[0.19213708]]\n",
            "8 day input [0.16696306 0.16262993 0.16710081 0.16758923 0.16463369 0.16338134\n",
            " 0.16338134 0.16493425 0.17084534 0.17112085 0.16871634 0.16210394\n",
            " 0.16280526 0.16568566 0.17179712 0.1764809  0.17635567 0.183469\n",
            " 0.18562304 0.18219161 0.18126487 0.17778334 0.18467126 0.18564809\n",
            " 0.19273638 0.19153413 0.19313713 0.19829681 0.19556669 0.19579211\n",
            " 0.19316218 0.20077646 0.19997495 0.19644333 0.20343143 0.20641202\n",
            " 0.20726362 0.21823419 0.2144521  0.21162179 0.21282405 0.20999374\n",
            " 0.20480902 0.20348153 0.20771446 0.20964308 0.21001879 0.21828428\n",
            " 0.21763306 0.2210645  0.21613024 0.21314966 0.21517846 0.21735755\n",
            " 0.21956168 0.21635567 0.22289292 0.22444584 0.22232937 0.21475266\n",
            " 0.21122104 0.18822793 0.18036318 0.18274264 0.17871008 0.17815905\n",
            " 0.1777082  0.18189105 0.17685661 0.17465247 0.1682154  0.16944271\n",
            " 0.17282405 0.17630557 0.18604884 0.17417658 0.17976205 0.18371947\n",
            " 0.19356293 0.20240451 0.20295554 0.20693801 0.20753914 0.19053225\n",
            " 0.17713212 0.17868503 0.18164058 0.17397621 0.16874139 0.17257358\n",
            " 0.19361557 0.19361557 0.18947245 0.18889764 0.1888684  0.18917662\n",
            " 0.18970373 0.19038931 0.19120495 0.19213708]\n",
            "8 day output [[0.19317693]]\n",
            "9 day input [0.16262993 0.16710081 0.16758923 0.16463369 0.16338134 0.16338134\n",
            " 0.16493425 0.17084534 0.17112085 0.16871634 0.16210394 0.16280526\n",
            " 0.16568566 0.17179712 0.1764809  0.17635567 0.183469   0.18562304\n",
            " 0.18219161 0.18126487 0.17778334 0.18467126 0.18564809 0.19273638\n",
            " 0.19153413 0.19313713 0.19829681 0.19556669 0.19579211 0.19316218\n",
            " 0.20077646 0.19997495 0.19644333 0.20343143 0.20641202 0.20726362\n",
            " 0.21823419 0.2144521  0.21162179 0.21282405 0.20999374 0.20480902\n",
            " 0.20348153 0.20771446 0.20964308 0.21001879 0.21828428 0.21763306\n",
            " 0.2210645  0.21613024 0.21314966 0.21517846 0.21735755 0.21956168\n",
            " 0.21635567 0.22289292 0.22444584 0.22232937 0.21475266 0.21122104\n",
            " 0.18822793 0.18036318 0.18274264 0.17871008 0.17815905 0.1777082\n",
            " 0.18189105 0.17685661 0.17465247 0.1682154  0.16944271 0.17282405\n",
            " 0.17630557 0.18604884 0.17417658 0.17976205 0.18371947 0.19356293\n",
            " 0.20240451 0.20295554 0.20693801 0.20753914 0.19053225 0.17713212\n",
            " 0.17868503 0.18164058 0.17397621 0.16874139 0.17257358 0.19361557\n",
            " 0.19361557 0.18947245 0.18889764 0.1888684  0.18917662 0.18970373\n",
            " 0.19038931 0.19120495 0.19213708 0.19317693]\n",
            "9 day output [[0.19431654]]\n",
            "10 day input [0.16710081 0.16758923 0.16463369 0.16338134 0.16338134 0.16493425\n",
            " 0.17084534 0.17112085 0.16871634 0.16210394 0.16280526 0.16568566\n",
            " 0.17179712 0.1764809  0.17635567 0.183469   0.18562304 0.18219161\n",
            " 0.18126487 0.17778334 0.18467126 0.18564809 0.19273638 0.19153413\n",
            " 0.19313713 0.19829681 0.19556669 0.19579211 0.19316218 0.20077646\n",
            " 0.19997495 0.19644333 0.20343143 0.20641202 0.20726362 0.21823419\n",
            " 0.2144521  0.21162179 0.21282405 0.20999374 0.20480902 0.20348153\n",
            " 0.20771446 0.20964308 0.21001879 0.21828428 0.21763306 0.2210645\n",
            " 0.21613024 0.21314966 0.21517846 0.21735755 0.21956168 0.21635567\n",
            " 0.22289292 0.22444584 0.22232937 0.21475266 0.21122104 0.18822793\n",
            " 0.18036318 0.18274264 0.17871008 0.17815905 0.1777082  0.18189105\n",
            " 0.17685661 0.17465247 0.1682154  0.16944271 0.17282405 0.17630557\n",
            " 0.18604884 0.17417658 0.17976205 0.18371947 0.19356293 0.20240451\n",
            " 0.20295554 0.20693801 0.20753914 0.19053225 0.17713212 0.17868503\n",
            " 0.18164058 0.17397621 0.16874139 0.17257358 0.19361557 0.19361557\n",
            " 0.18947245 0.18889764 0.1888684  0.18917662 0.18970373 0.19038931\n",
            " 0.19120495 0.19213708 0.19317693 0.19431654]\n",
            "10 day output [[0.19554701]]\n",
            "11 day input [0.16758923 0.16463369 0.16338134 0.16338134 0.16493425 0.17084534\n",
            " 0.17112085 0.16871634 0.16210394 0.16280526 0.16568566 0.17179712\n",
            " 0.1764809  0.17635567 0.183469   0.18562304 0.18219161 0.18126487\n",
            " 0.17778334 0.18467126 0.18564809 0.19273638 0.19153413 0.19313713\n",
            " 0.19829681 0.19556669 0.19579211 0.19316218 0.20077646 0.19997495\n",
            " 0.19644333 0.20343143 0.20641202 0.20726362 0.21823419 0.2144521\n",
            " 0.21162179 0.21282405 0.20999374 0.20480902 0.20348153 0.20771446\n",
            " 0.20964308 0.21001879 0.21828428 0.21763306 0.2210645  0.21613024\n",
            " 0.21314966 0.21517846 0.21735755 0.21956168 0.21635567 0.22289292\n",
            " 0.22444584 0.22232937 0.21475266 0.21122104 0.18822793 0.18036318\n",
            " 0.18274264 0.17871008 0.17815905 0.1777082  0.18189105 0.17685661\n",
            " 0.17465247 0.1682154  0.16944271 0.17282405 0.17630557 0.18604884\n",
            " 0.17417658 0.17976205 0.18371947 0.19356293 0.20240451 0.20295554\n",
            " 0.20693801 0.20753914 0.19053225 0.17713212 0.17868503 0.18164058\n",
            " 0.17397621 0.16874139 0.17257358 0.19361557 0.19361557 0.18947245\n",
            " 0.18889764 0.1888684  0.18917662 0.18970373 0.19038931 0.19120495\n",
            " 0.19213708 0.19317693 0.19431654 0.19554701]\n",
            "11 day output [[0.19685824]]\n",
            "12 day input [0.16463369 0.16338134 0.16338134 0.16493425 0.17084534 0.17112085\n",
            " 0.16871634 0.16210394 0.16280526 0.16568566 0.17179712 0.1764809\n",
            " 0.17635567 0.183469   0.18562304 0.18219161 0.18126487 0.17778334\n",
            " 0.18467126 0.18564809 0.19273638 0.19153413 0.19313713 0.19829681\n",
            " 0.19556669 0.19579211 0.19316218 0.20077646 0.19997495 0.19644333\n",
            " 0.20343143 0.20641202 0.20726362 0.21823419 0.2144521  0.21162179\n",
            " 0.21282405 0.20999374 0.20480902 0.20348153 0.20771446 0.20964308\n",
            " 0.21001879 0.21828428 0.21763306 0.2210645  0.21613024 0.21314966\n",
            " 0.21517846 0.21735755 0.21956168 0.21635567 0.22289292 0.22444584\n",
            " 0.22232937 0.21475266 0.21122104 0.18822793 0.18036318 0.18274264\n",
            " 0.17871008 0.17815905 0.1777082  0.18189105 0.17685661 0.17465247\n",
            " 0.1682154  0.16944271 0.17282405 0.17630557 0.18604884 0.17417658\n",
            " 0.17976205 0.18371947 0.19356293 0.20240451 0.20295554 0.20693801\n",
            " 0.20753914 0.19053225 0.17713212 0.17868503 0.18164058 0.17397621\n",
            " 0.16874139 0.17257358 0.19361557 0.19361557 0.18947245 0.18889764\n",
            " 0.1888684  0.18917662 0.18970373 0.19038931 0.19120495 0.19213708\n",
            " 0.19317693 0.19431654 0.19554701 0.19685824]\n",
            "12 day output [[0.19823946]]\n",
            "13 day input [0.16338134 0.16338134 0.16493425 0.17084534 0.17112085 0.16871634\n",
            " 0.16210394 0.16280526 0.16568566 0.17179712 0.1764809  0.17635567\n",
            " 0.183469   0.18562304 0.18219161 0.18126487 0.17778334 0.18467126\n",
            " 0.18564809 0.19273638 0.19153413 0.19313713 0.19829681 0.19556669\n",
            " 0.19579211 0.19316218 0.20077646 0.19997495 0.19644333 0.20343143\n",
            " 0.20641202 0.20726362 0.21823419 0.2144521  0.21162179 0.21282405\n",
            " 0.20999374 0.20480902 0.20348153 0.20771446 0.20964308 0.21001879\n",
            " 0.21828428 0.21763306 0.2210645  0.21613024 0.21314966 0.21517846\n",
            " 0.21735755 0.21956168 0.21635567 0.22289292 0.22444584 0.22232937\n",
            " 0.21475266 0.21122104 0.18822793 0.18036318 0.18274264 0.17871008\n",
            " 0.17815905 0.1777082  0.18189105 0.17685661 0.17465247 0.1682154\n",
            " 0.16944271 0.17282405 0.17630557 0.18604884 0.17417658 0.17976205\n",
            " 0.18371947 0.19356293 0.20240451 0.20295554 0.20693801 0.20753914\n",
            " 0.19053225 0.17713212 0.17868503 0.18164058 0.17397621 0.16874139\n",
            " 0.17257358 0.19361557 0.19361557 0.18947245 0.18889764 0.1888684\n",
            " 0.18917662 0.18970373 0.19038931 0.19120495 0.19213708 0.19317693\n",
            " 0.19431654 0.19554701 0.19685824 0.19823946]\n",
            "13 day output [[0.19968012]]\n",
            "14 day input [0.16338134 0.16493425 0.17084534 0.17112085 0.16871634 0.16210394\n",
            " 0.16280526 0.16568566 0.17179712 0.1764809  0.17635567 0.183469\n",
            " 0.18562304 0.18219161 0.18126487 0.17778334 0.18467126 0.18564809\n",
            " 0.19273638 0.19153413 0.19313713 0.19829681 0.19556669 0.19579211\n",
            " 0.19316218 0.20077646 0.19997495 0.19644333 0.20343143 0.20641202\n",
            " 0.20726362 0.21823419 0.2144521  0.21162179 0.21282405 0.20999374\n",
            " 0.20480902 0.20348153 0.20771446 0.20964308 0.21001879 0.21828428\n",
            " 0.21763306 0.2210645  0.21613024 0.21314966 0.21517846 0.21735755\n",
            " 0.21956168 0.21635567 0.22289292 0.22444584 0.22232937 0.21475266\n",
            " 0.21122104 0.18822793 0.18036318 0.18274264 0.17871008 0.17815905\n",
            " 0.1777082  0.18189105 0.17685661 0.17465247 0.1682154  0.16944271\n",
            " 0.17282405 0.17630557 0.18604884 0.17417658 0.17976205 0.18371947\n",
            " 0.19356293 0.20240451 0.20295554 0.20693801 0.20753914 0.19053225\n",
            " 0.17713212 0.17868503 0.18164058 0.17397621 0.16874139 0.17257358\n",
            " 0.19361557 0.19361557 0.18947245 0.18889764 0.1888684  0.18917662\n",
            " 0.18970373 0.19038931 0.19120495 0.19213708 0.19317693 0.19431654\n",
            " 0.19554701 0.19685824 0.19823946 0.19968012]\n",
            "14 day output [[0.20116974]]\n",
            "15 day input [0.16493425 0.17084534 0.17112085 0.16871634 0.16210394 0.16280526\n",
            " 0.16568566 0.17179712 0.1764809  0.17635567 0.183469   0.18562304\n",
            " 0.18219161 0.18126487 0.17778334 0.18467126 0.18564809 0.19273638\n",
            " 0.19153413 0.19313713 0.19829681 0.19556669 0.19579211 0.19316218\n",
            " 0.20077646 0.19997495 0.19644333 0.20343143 0.20641202 0.20726362\n",
            " 0.21823419 0.2144521  0.21162179 0.21282405 0.20999374 0.20480902\n",
            " 0.20348153 0.20771446 0.20964308 0.21001879 0.21828428 0.21763306\n",
            " 0.2210645  0.21613024 0.21314966 0.21517846 0.21735755 0.21956168\n",
            " 0.21635567 0.22289292 0.22444584 0.22232937 0.21475266 0.21122104\n",
            " 0.18822793 0.18036318 0.18274264 0.17871008 0.17815905 0.1777082\n",
            " 0.18189105 0.17685661 0.17465247 0.1682154  0.16944271 0.17282405\n",
            " 0.17630557 0.18604884 0.17417658 0.17976205 0.18371947 0.19356293\n",
            " 0.20240451 0.20295554 0.20693801 0.20753914 0.19053225 0.17713212\n",
            " 0.17868503 0.18164058 0.17397621 0.16874139 0.17257358 0.19361557\n",
            " 0.19361557 0.18947245 0.18889764 0.1888684  0.18917662 0.18970373\n",
            " 0.19038931 0.19120495 0.19213708 0.19317693 0.19431654 0.19554701\n",
            " 0.19685824 0.19823946 0.19968012 0.20116974]\n",
            "15 day output [[0.202699]]\n",
            "16 day input [0.17084534 0.17112085 0.16871634 0.16210394 0.16280526 0.16568566\n",
            " 0.17179712 0.1764809  0.17635567 0.183469   0.18562304 0.18219161\n",
            " 0.18126487 0.17778334 0.18467126 0.18564809 0.19273638 0.19153413\n",
            " 0.19313713 0.19829681 0.19556669 0.19579211 0.19316218 0.20077646\n",
            " 0.19997495 0.19644333 0.20343143 0.20641202 0.20726362 0.21823419\n",
            " 0.2144521  0.21162179 0.21282405 0.20999374 0.20480902 0.20348153\n",
            " 0.20771446 0.20964308 0.21001879 0.21828428 0.21763306 0.2210645\n",
            " 0.21613024 0.21314966 0.21517846 0.21735755 0.21956168 0.21635567\n",
            " 0.22289292 0.22444584 0.22232937 0.21475266 0.21122104 0.18822793\n",
            " 0.18036318 0.18274264 0.17871008 0.17815905 0.1777082  0.18189105\n",
            " 0.17685661 0.17465247 0.1682154  0.16944271 0.17282405 0.17630557\n",
            " 0.18604884 0.17417658 0.17976205 0.18371947 0.19356293 0.20240451\n",
            " 0.20295554 0.20693801 0.20753914 0.19053225 0.17713212 0.17868503\n",
            " 0.18164058 0.17397621 0.16874139 0.17257358 0.19361557 0.19361557\n",
            " 0.18947245 0.18889764 0.1888684  0.18917662 0.18970373 0.19038931\n",
            " 0.19120495 0.19213708 0.19317693 0.19431654 0.19554701 0.19685824\n",
            " 0.19823946 0.19968012 0.20116974 0.20269901]\n",
            "16 day output [[0.20425949]]\n",
            "17 day input [0.17112085 0.16871634 0.16210394 0.16280526 0.16568566 0.17179712\n",
            " 0.1764809  0.17635567 0.183469   0.18562304 0.18219161 0.18126487\n",
            " 0.17778334 0.18467126 0.18564809 0.19273638 0.19153413 0.19313713\n",
            " 0.19829681 0.19556669 0.19579211 0.19316218 0.20077646 0.19997495\n",
            " 0.19644333 0.20343143 0.20641202 0.20726362 0.21823419 0.2144521\n",
            " 0.21162179 0.21282405 0.20999374 0.20480902 0.20348153 0.20771446\n",
            " 0.20964308 0.21001879 0.21828428 0.21763306 0.2210645  0.21613024\n",
            " 0.21314966 0.21517846 0.21735755 0.21956168 0.21635567 0.22289292\n",
            " 0.22444584 0.22232937 0.21475266 0.21122104 0.18822793 0.18036318\n",
            " 0.18274264 0.17871008 0.17815905 0.1777082  0.18189105 0.17685661\n",
            " 0.17465247 0.1682154  0.16944271 0.17282405 0.17630557 0.18604884\n",
            " 0.17417658 0.17976205 0.18371947 0.19356293 0.20240451 0.20295554\n",
            " 0.20693801 0.20753914 0.19053225 0.17713212 0.17868503 0.18164058\n",
            " 0.17397621 0.16874139 0.17257358 0.19361557 0.19361557 0.18947245\n",
            " 0.18889764 0.1888684  0.18917662 0.18970373 0.19038931 0.19120495\n",
            " 0.19213708 0.19317693 0.19431654 0.19554701 0.19685824 0.19823946\n",
            " 0.19968012 0.20116974 0.20269901 0.20425949]\n",
            "17 day output [[0.20584391]]\n",
            "18 day input [0.16871634 0.16210394 0.16280526 0.16568566 0.17179712 0.1764809\n",
            " 0.17635567 0.183469   0.18562304 0.18219161 0.18126487 0.17778334\n",
            " 0.18467126 0.18564809 0.19273638 0.19153413 0.19313713 0.19829681\n",
            " 0.19556669 0.19579211 0.19316218 0.20077646 0.19997495 0.19644333\n",
            " 0.20343143 0.20641202 0.20726362 0.21823419 0.2144521  0.21162179\n",
            " 0.21282405 0.20999374 0.20480902 0.20348153 0.20771446 0.20964308\n",
            " 0.21001879 0.21828428 0.21763306 0.2210645  0.21613024 0.21314966\n",
            " 0.21517846 0.21735755 0.21956168 0.21635567 0.22289292 0.22444584\n",
            " 0.22232937 0.21475266 0.21122104 0.18822793 0.18036318 0.18274264\n",
            " 0.17871008 0.17815905 0.1777082  0.18189105 0.17685661 0.17465247\n",
            " 0.1682154  0.16944271 0.17282405 0.17630557 0.18604884 0.17417658\n",
            " 0.17976205 0.18371947 0.19356293 0.20240451 0.20295554 0.20693801\n",
            " 0.20753914 0.19053225 0.17713212 0.17868503 0.18164058 0.17397621\n",
            " 0.16874139 0.17257358 0.19361557 0.19361557 0.18947245 0.18889764\n",
            " 0.1888684  0.18917662 0.18970373 0.19038931 0.19120495 0.19213708\n",
            " 0.19317693 0.19431654 0.19554701 0.19685824 0.19823946 0.19968012\n",
            " 0.20116974 0.20269901 0.20425949 0.20584391]\n",
            "18 day output [[0.20744641]]\n",
            "19 day input [0.16210394 0.16280526 0.16568566 0.17179712 0.1764809  0.17635567\n",
            " 0.183469   0.18562304 0.18219161 0.18126487 0.17778334 0.18467126\n",
            " 0.18564809 0.19273638 0.19153413 0.19313713 0.19829681 0.19556669\n",
            " 0.19579211 0.19316218 0.20077646 0.19997495 0.19644333 0.20343143\n",
            " 0.20641202 0.20726362 0.21823419 0.2144521  0.21162179 0.21282405\n",
            " 0.20999374 0.20480902 0.20348153 0.20771446 0.20964308 0.21001879\n",
            " 0.21828428 0.21763306 0.2210645  0.21613024 0.21314966 0.21517846\n",
            " 0.21735755 0.21956168 0.21635567 0.22289292 0.22444584 0.22232937\n",
            " 0.21475266 0.21122104 0.18822793 0.18036318 0.18274264 0.17871008\n",
            " 0.17815905 0.1777082  0.18189105 0.17685661 0.17465247 0.1682154\n",
            " 0.16944271 0.17282405 0.17630557 0.18604884 0.17417658 0.17976205\n",
            " 0.18371947 0.19356293 0.20240451 0.20295554 0.20693801 0.20753914\n",
            " 0.19053225 0.17713212 0.17868503 0.18164058 0.17397621 0.16874139\n",
            " 0.17257358 0.19361557 0.19361557 0.18947245 0.18889764 0.1888684\n",
            " 0.18917662 0.18970373 0.19038931 0.19120495 0.19213708 0.19317693\n",
            " 0.19431654 0.19554701 0.19685824 0.19823946 0.19968012 0.20116974\n",
            " 0.20269901 0.20425949 0.20584391 0.20744641]\n",
            "19 day output [[0.20906223]]\n",
            "20 day input [0.16280526 0.16568566 0.17179712 0.1764809  0.17635567 0.183469\n",
            " 0.18562304 0.18219161 0.18126487 0.17778334 0.18467126 0.18564809\n",
            " 0.19273638 0.19153413 0.19313713 0.19829681 0.19556669 0.19579211\n",
            " 0.19316218 0.20077646 0.19997495 0.19644333 0.20343143 0.20641202\n",
            " 0.20726362 0.21823419 0.2144521  0.21162179 0.21282405 0.20999374\n",
            " 0.20480902 0.20348153 0.20771446 0.20964308 0.21001879 0.21828428\n",
            " 0.21763306 0.2210645  0.21613024 0.21314966 0.21517846 0.21735755\n",
            " 0.21956168 0.21635567 0.22289292 0.22444584 0.22232937 0.21475266\n",
            " 0.21122104 0.18822793 0.18036318 0.18274264 0.17871008 0.17815905\n",
            " 0.1777082  0.18189105 0.17685661 0.17465247 0.1682154  0.16944271\n",
            " 0.17282405 0.17630557 0.18604884 0.17417658 0.17976205 0.18371947\n",
            " 0.19356293 0.20240451 0.20295554 0.20693801 0.20753914 0.19053225\n",
            " 0.17713212 0.17868503 0.18164058 0.17397621 0.16874139 0.17257358\n",
            " 0.19361557 0.19361557 0.18947245 0.18889764 0.1888684  0.18917662\n",
            " 0.18970373 0.19038931 0.19120495 0.19213708 0.19317693 0.19431654\n",
            " 0.19554701 0.19685824 0.19823946 0.19968012 0.20116974 0.20269901\n",
            " 0.20425949 0.20584391 0.20744641 0.20906223]\n",
            "20 day output [[0.21068765]]\n",
            "21 day input [0.16568566 0.17179712 0.1764809  0.17635567 0.183469   0.18562304\n",
            " 0.18219161 0.18126487 0.17778334 0.18467126 0.18564809 0.19273638\n",
            " 0.19153413 0.19313713 0.19829681 0.19556669 0.19579211 0.19316218\n",
            " 0.20077646 0.19997495 0.19644333 0.20343143 0.20641202 0.20726362\n",
            " 0.21823419 0.2144521  0.21162179 0.21282405 0.20999374 0.20480902\n",
            " 0.20348153 0.20771446 0.20964308 0.21001879 0.21828428 0.21763306\n",
            " 0.2210645  0.21613024 0.21314966 0.21517846 0.21735755 0.21956168\n",
            " 0.21635567 0.22289292 0.22444584 0.22232937 0.21475266 0.21122104\n",
            " 0.18822793 0.18036318 0.18274264 0.17871008 0.17815905 0.1777082\n",
            " 0.18189105 0.17685661 0.17465247 0.1682154  0.16944271 0.17282405\n",
            " 0.17630557 0.18604884 0.17417658 0.17976205 0.18371947 0.19356293\n",
            " 0.20240451 0.20295554 0.20693801 0.20753914 0.19053225 0.17713212\n",
            " 0.17868503 0.18164058 0.17397621 0.16874139 0.17257358 0.19361557\n",
            " 0.19361557 0.18947245 0.18889764 0.1888684  0.18917662 0.18970373\n",
            " 0.19038931 0.19120495 0.19213708 0.19317693 0.19431654 0.19554701\n",
            " 0.19685824 0.19823946 0.19968012 0.20116974 0.20269901 0.20425949\n",
            " 0.20584391 0.20744641 0.20906223 0.21068765]\n",
            "21 day output [[0.21232016]]\n",
            "22 day input [0.17179712 0.1764809  0.17635567 0.183469   0.18562304 0.18219161\n",
            " 0.18126487 0.17778334 0.18467126 0.18564809 0.19273638 0.19153413\n",
            " 0.19313713 0.19829681 0.19556669 0.19579211 0.19316218 0.20077646\n",
            " 0.19997495 0.19644333 0.20343143 0.20641202 0.20726362 0.21823419\n",
            " 0.2144521  0.21162179 0.21282405 0.20999374 0.20480902 0.20348153\n",
            " 0.20771446 0.20964308 0.21001879 0.21828428 0.21763306 0.2210645\n",
            " 0.21613024 0.21314966 0.21517846 0.21735755 0.21956168 0.21635567\n",
            " 0.22289292 0.22444584 0.22232937 0.21475266 0.21122104 0.18822793\n",
            " 0.18036318 0.18274264 0.17871008 0.17815905 0.1777082  0.18189105\n",
            " 0.17685661 0.17465247 0.1682154  0.16944271 0.17282405 0.17630557\n",
            " 0.18604884 0.17417658 0.17976205 0.18371947 0.19356293 0.20240451\n",
            " 0.20295554 0.20693801 0.20753914 0.19053225 0.17713212 0.17868503\n",
            " 0.18164058 0.17397621 0.16874139 0.17257358 0.19361557 0.19361557\n",
            " 0.18947245 0.18889764 0.1888684  0.18917662 0.18970373 0.19038931\n",
            " 0.19120495 0.19213708 0.19317693 0.19431654 0.19554701 0.19685824\n",
            " 0.19823946 0.19968012 0.20116974 0.20269901 0.20425949 0.20584391\n",
            " 0.20744641 0.20906223 0.21068765 0.21232016]\n",
            "22 day output [[0.21395805]]\n",
            "23 day input [0.1764809  0.17635567 0.183469   0.18562304 0.18219161 0.18126487\n",
            " 0.17778334 0.18467126 0.18564809 0.19273638 0.19153413 0.19313713\n",
            " 0.19829681 0.19556669 0.19579211 0.19316218 0.20077646 0.19997495\n",
            " 0.19644333 0.20343143 0.20641202 0.20726362 0.21823419 0.2144521\n",
            " 0.21162179 0.21282405 0.20999374 0.20480902 0.20348153 0.20771446\n",
            " 0.20964308 0.21001879 0.21828428 0.21763306 0.2210645  0.21613024\n",
            " 0.21314966 0.21517846 0.21735755 0.21956168 0.21635567 0.22289292\n",
            " 0.22444584 0.22232937 0.21475266 0.21122104 0.18822793 0.18036318\n",
            " 0.18274264 0.17871008 0.17815905 0.1777082  0.18189105 0.17685661\n",
            " 0.17465247 0.1682154  0.16944271 0.17282405 0.17630557 0.18604884\n",
            " 0.17417658 0.17976205 0.18371947 0.19356293 0.20240451 0.20295554\n",
            " 0.20693801 0.20753914 0.19053225 0.17713212 0.17868503 0.18164058\n",
            " 0.17397621 0.16874139 0.17257358 0.19361557 0.19361557 0.18947245\n",
            " 0.18889764 0.1888684  0.18917662 0.18970373 0.19038931 0.19120495\n",
            " 0.19213708 0.19317693 0.19431654 0.19554701 0.19685824 0.19823946\n",
            " 0.19968012 0.20116974 0.20269901 0.20425949 0.20584391 0.20744641\n",
            " 0.20906223 0.21068765 0.21232016 0.21395805]\n",
            "23 day output [[0.21560048]]\n",
            "24 day input [0.17635567 0.183469   0.18562304 0.18219161 0.18126487 0.17778334\n",
            " 0.18467126 0.18564809 0.19273638 0.19153413 0.19313713 0.19829681\n",
            " 0.19556669 0.19579211 0.19316218 0.20077646 0.19997495 0.19644333\n",
            " 0.20343143 0.20641202 0.20726362 0.21823419 0.2144521  0.21162179\n",
            " 0.21282405 0.20999374 0.20480902 0.20348153 0.20771446 0.20964308\n",
            " 0.21001879 0.21828428 0.21763306 0.2210645  0.21613024 0.21314966\n",
            " 0.21517846 0.21735755 0.21956168 0.21635567 0.22289292 0.22444584\n",
            " 0.22232937 0.21475266 0.21122104 0.18822793 0.18036318 0.18274264\n",
            " 0.17871008 0.17815905 0.1777082  0.18189105 0.17685661 0.17465247\n",
            " 0.1682154  0.16944271 0.17282405 0.17630557 0.18604884 0.17417658\n",
            " 0.17976205 0.18371947 0.19356293 0.20240451 0.20295554 0.20693801\n",
            " 0.20753914 0.19053225 0.17713212 0.17868503 0.18164058 0.17397621\n",
            " 0.16874139 0.17257358 0.19361557 0.19361557 0.18947245 0.18889764\n",
            " 0.1888684  0.18917662 0.18970373 0.19038931 0.19120495 0.19213708\n",
            " 0.19317693 0.19431654 0.19554701 0.19685824 0.19823946 0.19968012\n",
            " 0.20116974 0.20269901 0.20425949 0.20584391 0.20744641 0.20906223\n",
            " 0.21068765 0.21232016 0.21395805 0.21560048]\n",
            "24 day output [[0.21724755]]\n",
            "25 day input [0.183469   0.18562304 0.18219161 0.18126487 0.17778334 0.18467126\n",
            " 0.18564809 0.19273638 0.19153413 0.19313713 0.19829681 0.19556669\n",
            " 0.19579211 0.19316218 0.20077646 0.19997495 0.19644333 0.20343143\n",
            " 0.20641202 0.20726362 0.21823419 0.2144521  0.21162179 0.21282405\n",
            " 0.20999374 0.20480902 0.20348153 0.20771446 0.20964308 0.21001879\n",
            " 0.21828428 0.21763306 0.2210645  0.21613024 0.21314966 0.21517846\n",
            " 0.21735755 0.21956168 0.21635567 0.22289292 0.22444584 0.22232937\n",
            " 0.21475266 0.21122104 0.18822793 0.18036318 0.18274264 0.17871008\n",
            " 0.17815905 0.1777082  0.18189105 0.17685661 0.17465247 0.1682154\n",
            " 0.16944271 0.17282405 0.17630557 0.18604884 0.17417658 0.17976205\n",
            " 0.18371947 0.19356293 0.20240451 0.20295554 0.20693801 0.20753914\n",
            " 0.19053225 0.17713212 0.17868503 0.18164058 0.17397621 0.16874139\n",
            " 0.17257358 0.19361557 0.19361557 0.18947245 0.18889764 0.1888684\n",
            " 0.18917662 0.18970373 0.19038931 0.19120495 0.19213708 0.19317693\n",
            " 0.19431654 0.19554701 0.19685824 0.19823946 0.19968012 0.20116974\n",
            " 0.20269901 0.20425949 0.20584391 0.20744641 0.20906223 0.21068765\n",
            " 0.21232016 0.21395805 0.21560048 0.21724755]\n",
            "25 day output [[0.21889964]]\n",
            "26 day input [0.18562304 0.18219161 0.18126487 0.17778334 0.18467126 0.18564809\n",
            " 0.19273638 0.19153413 0.19313713 0.19829681 0.19556669 0.19579211\n",
            " 0.19316218 0.20077646 0.19997495 0.19644333 0.20343143 0.20641202\n",
            " 0.20726362 0.21823419 0.2144521  0.21162179 0.21282405 0.20999374\n",
            " 0.20480902 0.20348153 0.20771446 0.20964308 0.21001879 0.21828428\n",
            " 0.21763306 0.2210645  0.21613024 0.21314966 0.21517846 0.21735755\n",
            " 0.21956168 0.21635567 0.22289292 0.22444584 0.22232937 0.21475266\n",
            " 0.21122104 0.18822793 0.18036318 0.18274264 0.17871008 0.17815905\n",
            " 0.1777082  0.18189105 0.17685661 0.17465247 0.1682154  0.16944271\n",
            " 0.17282405 0.17630557 0.18604884 0.17417658 0.17976205 0.18371947\n",
            " 0.19356293 0.20240451 0.20295554 0.20693801 0.20753914 0.19053225\n",
            " 0.17713212 0.17868503 0.18164058 0.17397621 0.16874139 0.17257358\n",
            " 0.19361557 0.19361557 0.18947245 0.18889764 0.1888684  0.18917662\n",
            " 0.18970373 0.19038931 0.19120495 0.19213708 0.19317693 0.19431654\n",
            " 0.19554701 0.19685824 0.19823946 0.19968012 0.20116974 0.20269901\n",
            " 0.20425949 0.20584391 0.20744641 0.20906223 0.21068765 0.21232016\n",
            " 0.21395805 0.21560048 0.21724755 0.21889964]\n",
            "26 day output [[0.22055787]]\n",
            "27 day input [0.18219161 0.18126487 0.17778334 0.18467126 0.18564809 0.19273638\n",
            " 0.19153413 0.19313713 0.19829681 0.19556669 0.19579211 0.19316218\n",
            " 0.20077646 0.19997495 0.19644333 0.20343143 0.20641202 0.20726362\n",
            " 0.21823419 0.2144521  0.21162179 0.21282405 0.20999374 0.20480902\n",
            " 0.20348153 0.20771446 0.20964308 0.21001879 0.21828428 0.21763306\n",
            " 0.2210645  0.21613024 0.21314966 0.21517846 0.21735755 0.21956168\n",
            " 0.21635567 0.22289292 0.22444584 0.22232937 0.21475266 0.21122104\n",
            " 0.18822793 0.18036318 0.18274264 0.17871008 0.17815905 0.1777082\n",
            " 0.18189105 0.17685661 0.17465247 0.1682154  0.16944271 0.17282405\n",
            " 0.17630557 0.18604884 0.17417658 0.17976205 0.18371947 0.19356293\n",
            " 0.20240451 0.20295554 0.20693801 0.20753914 0.19053225 0.17713212\n",
            " 0.17868503 0.18164058 0.17397621 0.16874139 0.17257358 0.19361557\n",
            " 0.19361557 0.18947245 0.18889764 0.1888684  0.18917662 0.18970373\n",
            " 0.19038931 0.19120495 0.19213708 0.19317693 0.19431654 0.19554701\n",
            " 0.19685824 0.19823946 0.19968012 0.20116974 0.20269901 0.20425949\n",
            " 0.20584391 0.20744641 0.20906223 0.21068765 0.21232016 0.21395805\n",
            " 0.21560048 0.21724755 0.21889964 0.22055787]\n",
            "27 day output [[0.22222377]]\n",
            "28 day input [0.18126487 0.17778334 0.18467126 0.18564809 0.19273638 0.19153413\n",
            " 0.19313713 0.19829681 0.19556669 0.19579211 0.19316218 0.20077646\n",
            " 0.19997495 0.19644333 0.20343143 0.20641202 0.20726362 0.21823419\n",
            " 0.2144521  0.21162179 0.21282405 0.20999374 0.20480902 0.20348153\n",
            " 0.20771446 0.20964308 0.21001879 0.21828428 0.21763306 0.2210645\n",
            " 0.21613024 0.21314966 0.21517846 0.21735755 0.21956168 0.21635567\n",
            " 0.22289292 0.22444584 0.22232937 0.21475266 0.21122104 0.18822793\n",
            " 0.18036318 0.18274264 0.17871008 0.17815905 0.1777082  0.18189105\n",
            " 0.17685661 0.17465247 0.1682154  0.16944271 0.17282405 0.17630557\n",
            " 0.18604884 0.17417658 0.17976205 0.18371947 0.19356293 0.20240451\n",
            " 0.20295554 0.20693801 0.20753914 0.19053225 0.17713212 0.17868503\n",
            " 0.18164058 0.17397621 0.16874139 0.17257358 0.19361557 0.19361557\n",
            " 0.18947245 0.18889764 0.1888684  0.18917662 0.18970373 0.19038931\n",
            " 0.19120495 0.19213708 0.19317693 0.19431654 0.19554701 0.19685824\n",
            " 0.19823946 0.19968012 0.20116974 0.20269901 0.20425949 0.20584391\n",
            " 0.20744641 0.20906223 0.21068765 0.21232016 0.21395805 0.21560048\n",
            " 0.21724755 0.21889964 0.22055787 0.22222377]\n",
            "28 day output [[0.223899]]\n",
            "29 day input [0.17778334 0.18467126 0.18564809 0.19273638 0.19153413 0.19313713\n",
            " 0.19829681 0.19556669 0.19579211 0.19316218 0.20077646 0.19997495\n",
            " 0.19644333 0.20343143 0.20641202 0.20726362 0.21823419 0.2144521\n",
            " 0.21162179 0.21282405 0.20999374 0.20480902 0.20348153 0.20771446\n",
            " 0.20964308 0.21001879 0.21828428 0.21763306 0.2210645  0.21613024\n",
            " 0.21314966 0.21517846 0.21735755 0.21956168 0.21635567 0.22289292\n",
            " 0.22444584 0.22232937 0.21475266 0.21122104 0.18822793 0.18036318\n",
            " 0.18274264 0.17871008 0.17815905 0.1777082  0.18189105 0.17685661\n",
            " 0.17465247 0.1682154  0.16944271 0.17282405 0.17630557 0.18604884\n",
            " 0.17417658 0.17976205 0.18371947 0.19356293 0.20240451 0.20295554\n",
            " 0.20693801 0.20753914 0.19053225 0.17713212 0.17868503 0.18164058\n",
            " 0.17397621 0.16874139 0.17257358 0.19361557 0.19361557 0.18947245\n",
            " 0.18889764 0.1888684  0.18917662 0.18970373 0.19038931 0.19120495\n",
            " 0.19213708 0.19317693 0.19431654 0.19554701 0.19685824 0.19823946\n",
            " 0.19968012 0.20116974 0.20269901 0.20425949 0.20584391 0.20744641\n",
            " 0.20906223 0.21068765 0.21232016 0.21395805 0.21560048 0.21724755\n",
            " 0.21889964 0.22055787 0.22222377 0.22389901]\n",
            "29 day output [[0.22558567]]\n",
            "[[0.18947245180606842], [0.18889763951301575], [0.18886840343475342], [0.18917661905288696], [0.18970373272895813], [0.19038930535316467], [0.1912049502134323], [0.19213707745075226], [0.19317692518234253], [0.1943165361881256], [0.19554701447486877], [0.1968582421541214], [0.19823946058750153], [0.1996801197528839], [0.20116974413394928], [0.20269900560379028], [0.2042594850063324], [0.20584391057491302], [0.2074464112520218], [0.20906223356723785], [0.21068765223026276], [0.21232016384601593], [0.21395805478096008], [0.21560047566890717], [0.21724754571914673], [0.21889963746070862], [0.22055786848068237], [0.22222377359867096], [0.2238990068435669], [0.2255856692790985]]\n"
          ]
        }
      ]
    },
    {
      "cell_type": "code",
      "source": [
        "day_new=np.arange(1,101)\n",
        "day_pred=np.arange(101,131)"
      ],
      "metadata": {
        "id": "UbR5xUMgYQDn"
      },
      "execution_count": 44,
      "outputs": []
    },
    {
      "cell_type": "code",
      "source": [
        "import matplotlib.pyplot as plt"
      ],
      "metadata": {
        "id": "nh9mpSULZTk7"
      },
      "execution_count": 45,
      "outputs": []
    },
    {
      "cell_type": "code",
      "source": [
        "len(df1)"
      ],
      "metadata": {
        "colab": {
          "base_uri": "https://localhost:8080/"
        },
        "id": "6IllVYCHZVrv",
        "outputId": "69b48b51-f5c9-47c0-9744-8a93173a50eb"
      },
      "execution_count": 46,
      "outputs": [
        {
          "output_type": "execute_result",
          "data": {
            "text/plain": [
              "1257"
            ]
          },
          "metadata": {},
          "execution_count": 46
        }
      ]
    },
    {
      "cell_type": "markdown",
      "source": [
        "30 days predioction"
      ],
      "metadata": {
        "id": "c5K7VS-uaJ2A"
      }
    },
    {
      "cell_type": "code",
      "source": [
        "df3=df1.tolist()\n",
        "df3.extend(lst_output)\n",
        "plt.plot(df3[1200:])"
      ],
      "metadata": {
        "colab": {
          "base_uri": "https://localhost:8080/",
          "height": 448
        },
        "id": "L0UTCYGtZbL0",
        "outputId": "7bfaaf08-8f72-4046-93a2-966c3473a7d9"
      },
      "execution_count": 48,
      "outputs": [
        {
          "output_type": "execute_result",
          "data": {
            "text/plain": [
              "[<matplotlib.lines.Line2D at 0x7fd284221390>]"
            ]
          },
          "metadata": {},
          "execution_count": 48
        },
        {
          "output_type": "display_data",
          "data": {
            "text/plain": [
              "<Figure size 640x480 with 1 Axes>"
            ],
            "image/png": "[encoded data removed]"
          },
          "metadata": {}
        }
      ]
    },
    {
      "cell_type": "code",
      "source": [
        "df3=scaler.inverse_transform(df3).tolist()"
      ],
      "metadata": {
        "id": "MVa2nTvlZ08m"
      },
      "execution_count": 50,
      "outputs": []
    },
    {
      "cell_type": "code",
      "source": [
        "plt.plot(df3)"
      ],
      "metadata": {
        "colab": {
          "base_uri": "https://localhost:8080/",
          "height": 448
        },
        "id": "kuyzMD3ZaP3d",
        "outputId": "f0f41a19-ca8f-411b-8a18-6b573fc9877d"
      },
      "execution_count": 51,
      "outputs": [
        {
          "output_type": "execute_result",
          "data": {
            "text/plain": [
              "[<matplotlib.lines.Line2D at 0x7fd277d46e60>]"
            ]
          },
          "metadata": {},
          "execution_count": 51
        },
        {
          "output_type": "display_data",
          "data": {
            "text/plain": [
              "<Figure size 640x480 with 1 Axes>"
            ],
            "image/png": "[encoded data removed]"
          },
          "metadata": {}
        }
      ]
    },
    {
      "cell_type": "code",
      "source": [],
      "metadata": {
        "id": "4gTN_iXVaQ4i"
      },
      "execution_count": null,
      "outputs": []
    }
  ]
}